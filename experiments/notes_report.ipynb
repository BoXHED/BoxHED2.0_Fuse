{
 "cells": [
  {
   "cell_type": "markdown",
   "metadata": {},
   "source": [
    "# Notes Report\n",
    "This report will answer:\n",
    "1. What do the notes contain? -- How do they differ structurally? Semantically? \n",
    "2. Statistical info about the note category. Token count? Note count per icustay?\n",
    "3. Statistical comparison between categories"
   ]
  },
  {
   "cell_type": "code",
   "execution_count": 2,
   "metadata": {},
   "outputs": [],
   "source": [
    "import pandas as pd\n",
    "rad_path = f'/data/datasets/mimiciv_notes/physionet.org/files/mimic-iv-note/2.2/note/radiology.csv'\n",
    "dis_path = f'/data/datasets/mimiciv_notes/physionet.org/files/mimic-iv-note/2.2/note/discharge.csv'\n",
    "rad_cohort_path = f'/home/ugrads/a/aa_ron_su/BoXHED_Fuse/JSS_SUBMISSION_NEW/data/till_end_mimic_iv_extra_features_train_NOTE_TARGET1_FT_rad.csv'\n",
    "dis_cohort_path = f'/home/ugrads/a/aa_ron_su/BoXHED_Fuse/JSS_SUBMISSION_NEW/data/till_end_mimic_iv_extra_features_train_NOTE_TARGET1_FT.csv'\n",
    "rad_c_df = pd.read_csv(rad_cohort_path)\n",
    "dis_c_df = pd.read_csv(dis_cohort_path)"
   ]
  },
  {
   "cell_type": "markdown",
   "metadata": {},
   "source": [
    "## 1. What do the notes contain?"
   ]
  },
  {
   "cell_type": "markdown",
   "metadata": {},
   "source": [
    "The discharge table contains discharge summaries for hospitalizations. Discharge summaries are long form narratives which describe the reason for a patient’s admission to the hospital, their hospital course, and any relevant discharge instructions. \n",
    "\n",
    "The radiology table contains free-text radiology reports associated with radiography imaging. Radiology reports cover a variety of imaging modalities: x-ray, computed tomography, magnetic resonance imaging, ultrasound, and so on. Free-text radiology reports are semi-structured and usually follow a consistent template for a given imaging protocol"
   ]
  },
  {
   "cell_type": "code",
   "execution_count": null,
   "metadata": {},
   "outputs": [],
   "source": [
    "import numpy as np\n",
    "\n",
    "np.random.seed(1)\n",
    "n = rad_c_df.shape[0]\n",
    "idxs = [np.random.randint(n) for _ in range(3)]\n",
    "\n",
    "# print(rad_c_df.iloc[idxs[0]].text)\n",
    "# print( '-' * 40)\n",
    "'''\n",
    "HISTORY\n",
    "FINDINGS\n",
    "'''\n",
    "\n",
    "# print(rad_c_df.iloc[idxs[1]].text)\n",
    "# print( '-' * 40)\n",
    "'''\n",
    "INDICATION\n",
    "COMPARISON\n",
    "TECHNIQUE\n",
    "FINDINGS\n",
    "IMPRESSION\n",
    "'''\n",
    "\n",
    "# print(rad_c_df.iloc[idxs[2]].text)\n",
    "# print( '-' * 40)\n",
    "'''\n",
    "EXAMINATION\n",
    "INDICATION\n",
    "DOSE\n",
    "COMPARISON\n",
    "FINDINGS\n",
    "Head_CTA\n",
    "IMPRESSION\n",
    "'''"
   ]
  },
  {
   "cell_type": "markdown",
   "metadata": {},
   "source": [
    "Radiology is structured with headings in all caps. These vary in type, but generally there is some form of imaging performed followed by findings, impression, comparison, etc."
   ]
  },
  {
   "cell_type": "code",
   "execution_count": null,
   "metadata": {},
   "outputs": [],
   "source": [
    "import numpy as np\n",
    "\n",
    "np.random.seed(1)\n",
    "n = dis_c_df.shape[0]\n",
    "idxs = [np.random.randint(n) for _ in range(3)]\n",
    "\n",
    "# print(dis_c_df.iloc[idxs[0]].text)\n",
    "# print( '-' * 40)\n",
    "'''\n",
    "personal info... (hidden data for privacy)\n",
    "  Service: Neurosurgery\n",
    "  Chief Complaint: Fall\n",
    "  Major Surgical or Invasive Procedure: None\n",
    "  Name:  ___.           Unit No:   ___\n",
    "  Admission Date:  ___              Discharge Date:   ___\n",
    "  Date of Birth:  ___             Sex:   M\n",
    "  ...\n",
    "Service: NEUROSURGERY\n",
    "Chief Complaint:\n",
    "Major Surgical or Invasive Procedure:\n",
    "History of Present Illness:\n",
    "Past Medical History:\n",
    "Social History:\n",
    "Family History:\n",
    "Physical Exam: \n",
    "\n",
    "On Discharge: \n",
    "Pertinent Results:\n",
    "CT Head:\n",
    "IMPRESSION: \n",
    "\n",
    "Brief Hospital Course:\n",
    "Medications on Admission:\n",
    "Discharge Medications: \n",
    "Discharge Disposition: \n",
    "Discharge Diagnosis:\n",
    "Discharge Condition:\n",
    "Discharge Instructions: \n",
    "Followup Instructions:\n",
    "'''\n",
    "\n",
    "# print(dis_c_df.iloc[idxs[1]].text)\n",
    "# print( '-' * 40)\n",
    "'''\n",
    "personal info...\n",
    "Chief Complaint:\n",
    "Major Surgical or Invasive Procedure:\n",
    "History of Present Illness:\n",
    "Review of sytems:  \n",
    "Past Medical History:\n",
    "Social History:\n",
    "Family History:\n",
    "Physical Exam: \n",
    "\n",
    "GU: no foley  \n",
    "Ext: \n",
    "Neuro: \n",
    "Pertinent Results:\n",
    "Alpha-1 antitrypsin level: 31\n",
    "Alpha-1 antitrypsin phenotype:\n",
    "MICROBIOLOGY:\n",
    "IMAGING:\n",
    "\n",
    "Brief Hospital Course:\n",
    "#. Ascitic fluid leakage: \n",
    "#. Cirrhosis: \n",
    "#. Pneumonia: \n",
    "Medications on Admission:\n",
    "Discharge Medications:\n",
    "Discharge Disposition:\n",
    "Discharge Diagnosis:\n",
    "Discharge Condition:\n",
    "Discharge Instructions:\n",
    "Followup Instructions:\n",
    "'''\n",
    "\n",
    "# print(dis_c_df.iloc[idxs[2]].text)\n",
    "# print( '-' * 40)\n",
    "'''\n",
    "----------------------------------------\n",
    "----------------------------------------\n",
    " \n",
    "personal info...\n",
    "Chief Complaint:\n",
    "Major Surgical or Invasive Procedure:\n",
    "History of Present Illness:\n",
    "Past Medical History:\n",
    "Social History:\n",
    "Family History:\n",
    "Physical Exam:\n",
    "\n",
    "CT ABDOMEN W/O CONTRAST Study Date of ___ 1:14 ___ \n",
    "CT HEAD W/O CONTRAST Study Date of ___ 10:___vidence of acute intracranial process.  Chronic changes \n",
    "CT ABD & PELVIS W/O CONTRAST Study Date of ___ 4:09 ___ \n",
    "CT CHEST W/O CONTRAST Study Date of ___ 4:23 ___ \n",
    "CT ABD & PELVIS W/O CONTRAST Study Date of ___ 10:56 ___ \n",
    "\n",
    "Brief Hospital Course:\n",
    "Medications on Admission:\n",
    "Discharge Medications:\n",
    "Discharge Disposition:\n",
    "Facility:\n",
    "Discharge Diagnosis:\n",
    "Discharge Condition:\n",
    "Discharge Instructions:\n",
    "Followup Instructions:\n",
    "'''"
   ]
  },
  {
   "cell_type": "markdown",
   "metadata": {},
   "source": [
    "## 2. Statistical info about the note category. \n",
    "Token count? Note count per icustay?"
   ]
  },
  {
   "cell_type": "code",
   "execution_count": null,
   "metadata": {},
   "outputs": [],
   "source": [
    "import sys\n",
    "import os\n",
    "sys.path.append(\"/home/ugrads/a/aa_ron_su\")\n",
    "# from BoXHED_Fuse.src.helpers import tokenization\n",
    "\n",
    "from transformers import AutoTokenizer\n",
    "tokenizer = AutoTokenizer.from_pretrained('../models/Clinical-T5-Base/')"
   ]
  },
  {
   "cell_type": "code",
   "execution_count": null,
   "metadata": {},
   "outputs": [],
   "source": [
    "def tokenization(tokenizer, batched_text):\n",
    "    return tokenizer(batched_text['text'], padding = False, truncation=False)"
   ]
  },
  {
   "cell_type": "code",
   "execution_count": null,
   "metadata": {},
   "outputs": [],
   "source": [
    "from functools import partial\n",
    "from datasets import Dataset\n",
    "rad_c_ds = Dataset.from_pandas(rad_c_df).select_columns(['text'])\n",
    "tokens_rad = rad_c_ds.map(partial(tokenization, tokenizer), batched = True, batch_size = len(rad_c_ds) // 10)\n",
    "\n",
    "dis_c_ds = Dataset.from_pandas(dis_c_df).select_columns(['text'])\n",
    "tokens_dis = dis_c_ds.map(partial(tokenization, tokenizer), batched = True, batch_size = len(dis_c_ds) // 10)"
   ]
  },
  {
   "cell_type": "code",
   "execution_count": null,
   "metadata": {},
   "outputs": [],
   "source": [
    "note_token_lens_rad = [len(t['input_ids']) for t in tokens_rad]\n",
    "note_token_lens_dis = [len(t['input_ids']) for t in tokens_dis]"
   ]
  },
  {
   "cell_type": "code",
   "execution_count": 21,
   "metadata": {},
   "outputs": [],
   "source": [
    "def summary_stats(data):\n",
    "    print(f'MEAN: {np.mean(data)}\\nMEDIAN: {np.median(data)},\\nMAX: {np.max(data)}\\nMIN: {np.min(data)}')\n",
    "\n",
    "summary_stats(note_token_lens_rad)\n",
    "summary_stats(note_token_lens_dis)"
   ]
  },
  {
   "cell_type": "markdown",
   "metadata": {},
   "source": [
    "Radiology reports are more succinct. With an average token length of 265, their information easily fits into a 512 token transformer input.\n",
    "On the other hand, discharge notes are much longer at > 3000 tokens on average and will need to be truncated."
   ]
  },
  {
   "cell_type": "code",
   "execution_count": null,
   "metadata": {},
   "outputs": [],
   "source": [
    "print(tokens_rad[int(np.argmin(note_token_lens_rad))]['text'])\n",
    "print(tokens_dis[int(np.argmin(note_token_lens_dis))]['text'])"
   ]
  },
  {
   "cell_type": "code",
   "execution_count": null,
   "metadata": {},
   "outputs": [],
   "source": [
    "print(tokens_rad[int(np.argmax(note_token_lens_rad))]['text'])\n",
    "print(tokens_dis[int(np.argmax(note_token_lens_dis))]['text'])"
   ]
  },
  {
   "cell_type": "markdown",
   "metadata": {},
   "source": [
    "Let's find note count per icustay"
   ]
  },
  {
   "cell_type": "code",
   "execution_count": null,
   "metadata": {},
   "outputs": [],
   "source": [
    "note_counts_rad = rad_c_df.groupby('ICUSTAY_ID')['NOTE_ID'].count()\n",
    "note_counts_dis = dis_c_df.groupby('ICUSTAY_ID')['NOTE_ID'].count()\n"
   ]
  },
  {
   "cell_type": "code",
   "execution_count": null,
   "metadata": {},
   "outputs": [],
   "source": [
    "summary_stats(note_counts_rad)\n",
    "summary_stats(note_counts_dis)"
   ]
  },
  {
   "cell_type": "markdown",
   "metadata": {},
   "source": [
    "While there are 2 or 3 radiology reports per stay, there is almost always only 1 discharge report per stay.\n",
    "Thus, discharge notes can only be of limited use in real-time survival analysisby relying only on discharge reports from previous stays.\n",
    "Radiology reports, on the other hand, provide recent information on patient condition. "
   ]
  },
  {
   "cell_type": "markdown",
   "metadata": {},
   "source": [
    "## Further analysis\n",
    "Given that there is only one discharge per icustay, how many patients have multiple stays? In other words, how many patients would benefit from the inclusion of discharge notes?"
   ]
  },
  {
   "cell_type": "code",
   "execution_count": 7,
   "metadata": {},
   "outputs": [],
   "source": [
    "trainpath = '/home/ugrads/a/aa_ron_su/BoXHED_Fuse/JSS_SUBMISSION_NEW/data/till_end_mimic_iv_extra_features_train.csv'\n",
    "mimic_iv_train = pd.read_csv(trainpath)"
   ]
  },
  {
   "cell_type": "code",
   "execution_count": 8,
   "metadata": {},
   "outputs": [],
   "source": [
    "mimic_iv_train.rename(columns={'Icustay':'ICUSTAY_ID', 'subject':'SUBJECT_ID'}, inplace=True)"
   ]
  },
  {
   "cell_type": "code",
   "execution_count": 13,
   "metadata": {},
   "outputs": [],
   "source": [
    "rad_c_df_w_subj = rad_c_df.merge(mimic_iv_train[['ICUSTAY_ID', 'SUBJECT_ID']], on='ICUSTAY_ID', how='inner')\n",
    "dis_c_df_w_subj = dis_c_df.merge(mimic_iv_train[['ICUSTAY_ID', 'SUBJECT_ID']], on='ICUSTAY_ID', how='inner')"
   ]
  },
  {
   "cell_type": "code",
   "execution_count": null,
   "metadata": {},
   "outputs": [],
   "source": []
  },
  {
   "cell_type": "code",
   "execution_count": 27,
   "metadata": {},
   "outputs": [
    {
     "name": "stdout",
     "output_type": "stream",
     "text": [
      "radiology note counts by subject\n",
      " SUBJECT_ID\n",
      "10000032.0    1\n",
      "10000980.0    1\n",
      "10001217.0    3\n",
      "10001725.0    1\n",
      "10002013.0    2\n",
      "             ..\n",
      "19999287.0    5\n",
      "19999297.0    8\n",
      "19999442.0    4\n",
      "19999625.0    2\n",
      "19999987.0    2\n",
      "Name: NOTE_ID, Length: 22725, dtype: int64\n",
      "radiology note counts by subject\n",
      " SUBJECT_ID\n",
      "10000032.0    1\n",
      "10000980.0    1\n",
      "10001217.0    1\n",
      "10002013.0    1\n",
      "10002155.0    1\n",
      "             ..\n",
      "19998843.0    1\n",
      "19999287.0    1\n",
      "19999297.0    1\n",
      "19999442.0    1\n",
      "19999625.0    1\n",
      "Name: NOTE_ID, Length: 11042, dtype: int64\n"
     ]
    }
   ],
   "source": [
    "subject_note_counts_rad = rad_c_df_w_subj.groupby('SUBJECT_ID')['NOTE_ID'].nunique()\n",
    "subject_note_counts_dis = dis_c_df_w_subj.groupby('SUBJECT_ID')['NOTE_ID'].nunique()\n",
    "\n",
    "print('radiology note counts by subject\\n', subject_note_counts_rad)\n",
    "print('radiology note counts by subject\\n', subject_note_counts_dis)"
   ]
  },
  {
   "cell_type": "code",
   "execution_count": 28,
   "metadata": {},
   "outputs": [
    {
     "name": "stdout",
     "output_type": "stream",
     "text": [
      "MEAN: 3.350847084708471\n",
      "MEDIAN: 3.0,\n",
      "MAX: 44\n",
      "MIN: 1\n",
      "MEAN: 1.3197790255388517\n",
      "MEDIAN: 1.0,\n",
      "MAX: 6\n",
      "MIN: 1\n"
     ]
    }
   ],
   "source": [
    "summary_stats(subject_note_counts_rad)\n",
    "summary_stats(subject_note_counts_dis)"
   ]
  },
  {
   "cell_type": "markdown",
   "metadata": {},
   "source": [
    "Even when grouping by subject, there most patients only have 1 discharge summary. "
   ]
  }
 ],
 "metadata": {
  "kernelspec": {
   "display_name": "clinical1",
   "language": "python",
   "name": "python3"
  },
  "language_info": {
   "codemirror_mode": {
    "name": "ipython",
    "version": 3
   },
   "file_extension": ".py",
   "mimetype": "text/x-python",
   "name": "python",
   "nbconvert_exporter": "python",
   "pygments_lexer": "ipython3",
   "version": "3.10.11"
  },
  "orig_nbformat": 4
 },
 "nbformat": 4,
 "nbformat_minor": 2
}
