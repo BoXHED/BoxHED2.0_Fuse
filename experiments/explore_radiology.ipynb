{
 "cells": [
  {
   "cell_type": "code",
   "execution_count": 1,
   "metadata": {},
   "outputs": [],
   "source": [
    "train_path = '/home/ugrads/a/aa_ron_su/JSS_SUBMISSION_NEW/data/till_end_mimic_iv_extra_features_train.csv'\n",
    "test_path = '/home/ugrads/a/aa_ron_su/JSS_SUBMISSION_NEW/data/till_end_mimic_iv_extra_features_test.csv'\n",
    "radiology_path = '/data/datasets/mimiciv_notes/physionet.org/files/mimic-iv-note/2.2/note/radiology.csv.gz'\n",
    "discharge_path = '/data/datasets/mimiciv_notes/physionet.org/files/mimic-iv-note/2.2/note/discharge.csv'\n",
    "radiology_detail_path = '/data/datasets/mimiciv_notes/physionet.org/files/mimic-iv-note/2.2/note/radiology_detail.csv.gz'\n",
    "discharge_detail_path = '/data/datasets/mimiciv_notes/physionet.org/files/mimic-iv-note/2.2/note/discharge_detail.csv'"
   ]
  },
  {
   "cell_type": "code",
   "execution_count": 2,
   "metadata": {},
   "outputs": [],
   "source": [
    "import pandas as pd\n",
    "radiology = pd.read_csv(radiology_path)\n",
    "discharge = pd.read_csv(discharge_path)\n",
    "radiology_detail = pd.read_csv(radiology_detail_path)\n",
    "discharge_detail = pd.read_csv(discharge_detail_path)\n",
    "train = pd.read_csv(train_path)\n",
    "test = pd.read_csv(test_path)"
   ]
  },
  {
   "cell_type": "code",
   "execution_count": 3,
   "metadata": {},
   "outputs": [],
   "source": [
    "subject_cohort = pd.concat([train, test])['subject'].unique()"
   ]
  },
  {
   "cell_type": "code",
   "execution_count": null,
   "metadata": {},
   "outputs": [],
   "source": [
    "radiology_detail"
   ]
  },
  {
   "cell_type": "code",
   "execution_count": null,
   "metadata": {},
   "outputs": [],
   "source": [
    "radiology"
   ]
  },
  {
   "cell_type": "code",
   "execution_count": 8,
   "metadata": {},
   "outputs": [],
   "source": [
    "def populate_word_counts(notes):\n",
    "    notes['word_count'] = notes['text'].apply(lambda x: len(x.split()))\n",
    "\n",
    "def summary(notes, subject_cohort):\n",
    "    def _count_subjects_with_notes():\n",
    "        mask = notes['subject_id'].drop_duplicates().isin(subject_cohort)\n",
    "        return mask.sum()\n",
    "        # figure out how many notes apply to each subject id\n",
    "\n",
    "    print(f\"there are {len(notes)} notes\")\n",
    "    print(f\"there are on average {notes['word_count'].mean() :.2f} words per note. The min and max are {notes['word_count'].min()} and {notes['word_count'].max()} words\")\n",
    "    count = _count_subjects_with_notes()\n",
    "    print(f\"from our cohort, there are {count} subjects with notes out of {len(subject_cohort)} subjects. {count / len(subject_cohort) * 100 :.2f}% of subjects have notes\")\n",
    "    "
   ]
  },
  {
   "cell_type": "code",
   "execution_count": 9,
   "metadata": {},
   "outputs": [],
   "source": [
    "populate_word_counts(radiology)\n",
    "populate_word_counts(discharge)"
   ]
  },
  {
   "cell_type": "code",
   "execution_count": 12,
   "metadata": {},
   "outputs": [
    {
     "data": {
      "text/plain": [
       "0        10000032.0\n",
       "1        10000980.0\n",
       "2        10001217.0\n",
       "3        10001725.0\n",
       "4        10002013.0\n",
       "            ...    \n",
       "29103    19992425.0\n",
       "29104    19994730.0\n",
       "29105    19998770.0\n",
       "29106    19998878.0\n",
       "29107    19999068.0\n",
       "Length: 29108, dtype: float64"
      ]
     },
     "execution_count": 12,
     "metadata": {},
     "output_type": "execute_result"
    }
   ],
   "source": [
    "pd.Series(subject_cohort)"
   ]
  },
  {
   "cell_type": "code",
   "execution_count": 39,
   "metadata": {},
   "outputs": [],
   "source": [
    "def populate_note_count(subject_cohort, notes):\n",
    "    mask = notes['subject_id'].isin(subject_cohort)\n",
    "    notes['in_cohort'] = mask\n",
    "    return notes\n",
    "\n",
    "def generate_subject_note_pivot(notes):\n",
    "    return notes[['in_cohort', 'subject_id']].groupby('subject_id').apply('count')\n",
    "\n",
    "\n",
    "radiology = populate_note_count(subject_cohort=subject_cohort, notes=radiology)\n",
    "discharge = populate_note_count(subject_cohort=subject_cohort, notes=discharge)\n",
    "\n",
    "radiology_pivot = generate_subject_note_pivot(radiology)\n",
    "discharge_pivot = generate_subject_note_pivot(discharge)"
   ]
  },
  {
   "cell_type": "code",
   "execution_count": 49,
   "metadata": {},
   "outputs": [],
   "source": [
    "radiology_pivot.sort_values('in_cohort', ascending = False, inplace=True)\n",
    "discharge_pivot.sort_values('in_cohort', ascending = False, inplace=True)"
   ]
  },
  {
   "cell_type": "code",
   "execution_count": null,
   "metadata": {},
   "outputs": [],
   "source": [
    "radiology_pivot"
   ]
  },
  {
   "cell_type": "code",
   "execution_count": null,
   "metadata": {},
   "outputs": [],
   "source": [
    "import matplotlib.pyplot as plt\n",
    "\n",
    "fig,ax = plt.subplots()\n",
    "ax.hist(radiology_pivot, bins=100, log=True)\n",
    "ax.set_title('radiology_notes_per_subject')\n",
    "plt.show()"
   ]
  },
  {
   "cell_type": "code",
   "execution_count": null,
   "metadata": {},
   "outputs": [],
   "source": [
    "fig,ax = plt.subplots()\n",
    "ax.hist(discharge_pivot, bins=100, log=True)\n",
    "ax.set_title('discharge_notes_per_subject')\n",
    "plt.show()"
   ]
  },
  {
   "cell_type": "code",
   "execution_count": 67,
   "metadata": {},
   "outputs": [
    {
     "data": {
      "text/plain": [
       "in_cohort    9.777131\n",
       "dtype: float64"
      ]
     },
     "execution_count": 67,
     "metadata": {},
     "output_type": "execute_result"
    }
   ],
   "source": [
    "radiology_pivot.mean()"
   ]
  },
  {
   "cell_type": "code",
   "execution_count": 68,
   "metadata": {},
   "outputs": [
    {
     "data": {
      "text/plain": [
       "in_cohort    2.273885\n",
       "dtype: float64"
      ]
     },
     "execution_count": 68,
     "metadata": {},
     "output_type": "execute_result"
    }
   ],
   "source": [
    "discharge_pivot.mean()"
   ]
  },
  {
   "cell_type": "code",
   "execution_count": null,
   "metadata": {},
   "outputs": [],
   "source": [
    "pivot_table = pd.pivot_table(radiology, values='ICUSTAY_ID', index='SUBJECT_ID', aggfunc=pd.Series.nunique)\n",
    "pivot_table = pivot_table.rename(columns={'ICUSTAY_ID': 'NUM_ICUSTAYS'})\n",
    "pivot_table[pivot_table['NUM_ICUSTAYS'] > 3]"
   ]
  },
  {
   "cell_type": "code",
   "execution_count": 46,
   "metadata": {},
   "outputs": [
    {
     "name": "stdout",
     "output_type": "stream",
     "text": [
      "RADIOLOGY DATA SUMMARY:\n",
      "there are 2321355 notes\n",
      "there are on average 168.73876335157698 words per note. The min and max are 1 and 3081 words\n",
      "there are 27193 subjects with notes out of 29108 subjects. 93.42% of subjects have notes\n",
      "\n",
      "DISCHARGE DATA SUMMARY:\n",
      "there are 331794 notes\n",
      "there are on average 1600.274299716089 words per note. The min and max are 44 and 9026 words\n",
      "there are 27349 subjects with notes out of 29108 subjects. 93.96% of subjects have notes\n"
     ]
    }
   ],
   "source": [
    "print(\"RADIOLOGY DATA SUMMARY:\")\n",
    "summary(radiology, subject_cohort)\n",
    "print(\"\\nDISCHARGE DATA SUMMARY:\")\n",
    "summary(discharge, subject_cohort)"
   ]
  },
  {
   "cell_type": "code",
   "execution_count": 20,
   "metadata": {},
   "outputs": [
    {
     "data": {
      "text/plain": [
       "<Axes: >"
      ]
     },
     "execution_count": 20,
     "metadata": {},
     "output_type": "execute_result"
    },
    {
     "data": {
      "image/png": "[encoded data removed]",
      "text/plain": [
       "<Figure size 640x480 with 1 Axes>"
      ]
     },
     "metadata": {},
     "output_type": "display_data"
    }
   ],
   "source": [
    "from matplotlib import pyplot\n",
    "radiology['word_count'].hist(bins=100)"
   ]
  },
  {
   "cell_type": "code",
   "execution_count": 24,
   "metadata": {},
   "outputs": [
    {
     "data": {
      "text/plain": [
       "<Axes: >"
      ]
     },
     "execution_count": 24,
     "metadata": {},
     "output_type": "execute_result"
    },
    {
     "data": {
      "image/png": "[encoded data removed]",
      "text/plain": [
       "<Figure size 640x480 with 1 Axes>"
      ]
     },
     "metadata": {},
     "output_type": "display_data"
    }
   ],
   "source": [
    "from matplotlib import pyplot\n",
    "discharge['word_count'].hist(bins=100)"
   ]
  },
  {
   "cell_type": "code",
   "execution_count": 69,
   "metadata": {},
   "outputs": [],
   "source": [
    "from convert_deid_tags import replace_list_of_notes"
   ]
  },
  {
   "cell_type": "code",
   "execution_count": 77,
   "metadata": {},
   "outputs": [
    {
     "data": {
      "text/plain": [
       "0    EXAMINATION:  CHEST (PA AND LAT)\\n\\nINDICATION...\n",
       "1    EXAMINATION:  LIVER OR GALLBLADDER US (SINGLE ...\n",
       "2    INDICATION:  ___ HCV cirrhosis c/b ascites, hi...\n",
       "3    EXAMINATION:  Ultrasound-guided paracentesis.\\...\n",
       "4    EXAMINATION:  Paracentesis\\n\\nINDICATION:  ___...\n",
       "5    EXAMINATION:  ULTRASOUND INTERVENTIONAL PROCED...\n",
       "6    EXAMINATION:  LIVER OR GALLBLADDER US (SINGLE ...\n",
       "7    EXAMINATION:  CHEST (PA AND LAT)\\n\\nINDICATION...\n",
       "8    EXAMINATION:  Ultrasound-guided paracentesis.\\...\n",
       "9    EXAMINATION:  Ultrasound-guided paracentesis.\\...\n",
       "Name: text, dtype: object"
      ]
     },
     "execution_count": 77,
     "metadata": {},
     "output_type": "execute_result"
    }
   ],
   "source": [
    "radiology.text.iloc[0:10]"
   ]
  },
  {
   "cell_type": "code",
   "execution_count": 90,
   "metadata": {},
   "outputs": [],
   "source": [
    "tmp = replace_list_of_notes(radiology.text.tolist())"
   ]
  },
  {
   "cell_type": "code",
   "execution_count": 96,
   "metadata": {},
   "outputs": [
    {
     "data": {
      "text/plain": [
       "True"
      ]
     },
     "execution_count": 96,
     "metadata": {},
     "output_type": "execute_result"
    }
   ],
   "source": [
    "tmp == radiology.text.tolist()"
   ]
  },
  {
   "cell_type": "code",
   "execution_count": 100,
   "metadata": {},
   "outputs": [],
   "source": [
    "view = discharge[discharge.text.str.contains('First Name|Last Name|Age over 90')]\n"
   ]
  },
  {
   "cell_type": "code",
   "execution_count": 102,
   "metadata": {},
   "outputs": [
    {
     "data": {
      "text/plain": [
       "\" \\nName:  ___                     Unit No:   ___\\n \\nAdmission Date:  ___              Discharge Date:   ___\\n \\nDate of Birth:  ___             Sex:   M\\n \\nService: MEDICINE\\n \\nAllergies: \\nNo Known Allergies / Adverse Drug Reactions\\n \\nAttending: ___.\\n \\nChief Complaint:\\nConcern for pneumonia\\n \\nMajor Surgical or Invasive Procedure:\\nBronchoscopy on ___\\n\\n \\nHistory of Present Illness:\\nMr. ___ is a ___ year old gentleman with a history of MDS - \\nRefractory Anemia with Excess Blasts Type ___ s/p reduced \\nintensity MRD allogeneic SCT now D+405 who presents from clinic \\nwith concern for pneumonia.  \\n\\nHe has a complicated post-transplant history. He has had severe \\nGVHD of the gut treated with prednisone and cyclosporine, \\ncurrently maintained on 5mg prednisone daily and budesonide. He \\nwas diagnosed with aspergillus and stenotrophomonas pneumonia on \\nBAL on ___ and treated with levofloxacin and voriconazole, \\nand then on ___ was started on posaconizole for fungal \\nprophylaxis. On ___ he was found to have citrobacter \\nbacteremia from a suspected line infection and treated with \\nmeropenem, then cefepime, and finally ciprofloxacin for a 2 week \\ncourse. On ___ he was admitted with afib with RVR and found to \\nhave Nocardia nova pneumonia of RLL diagnosed on lung biopsy and \\ntreated with imipenim and minocycline, which on ___ was switched \\nto ceftriaxone/minocycline for dosing convenience when he was \\nleaving rehab. On ___ minocycline and posaconazole were held \\ndue to elevated LFTs. He has been at ___ since his \\ndischarge on ___ with a planned discharge this week.  \\n\\nHe was seen by Dr. ___ in ___ clinic today and endorsed \\ndyspnea on exertion and generally feeling weak. He was noted to \\nhave downtrending platelets and had a bone marrow biopsy to \\nevaluate for recurrent MDS. ___ CXR showed new consolidation in \\nRUL. He is admitted for further work-up and treatment.  \\n\\nCurrently, patient reports that he is tired and that his \\nbreathing is slightly heavy. Denies any fevers, chills, sweats. \\nSays that he has been receiving Lasix IV at rehab and that he \\nplans to have a cardioversion with his cardiologist in the next \\nfew weeks. He is currently not anticoagulated for his afib. He \\ndenies any cough, sputum production. Says his leg swelling is \\nmuch improved. Reports some stable loose stools after meals. No \\npain with defecation. No blood in stool.  \\n \\n\\n \\nPast Medical History:\\nPAST ONCOLOGIC HISTORY: Per outpatient oncology notes  \\nBONE MARROW BIOPSY ___: Markedly hypercellular marrow with \\nincreased blasts and dysplasia consistent with MDS RAEB -2.  \\nCYTOGENETICS ___: 45X -Y, Negative for common abnormality \\nseen in MDS. ___ for FLT3 TKD mutation and FLT3 ITD \\nmutation.  \\nBONE MARROW BIOPSY ___: HYPERCELLULAR BONE MARROW WITH \\nMYELOID DYSPLASIA AND INCREASED BLASTS CONSISTENT WITH CONTINUED \\nINVOLVEMENT BY THE PATIENT'S KNOWN MYELODYSPLASTIC SYNDROME \\n(RAEB-2) (SEE NOTE). Note: By count blasts number 14% and 18% in \\nthe peripheral blood and bone marrow aspirate respectively. Flow \\ncytometric analysis revealed a small population of CD34(+) \\nevents (7% total events). This is consistent with the above \\ndiagnosis. Correlation with cytogenetics and continued close \\nfollow-up is recommended. Cytogenetics unchanged.  \\nCYTOGENETICS ___: NEGATIVE for CBFB REARRANGEMENT, NEGATIVE \\nfor RUNX1T1-RUNX1 FUSION, NEGATIVE RESULT for the COMMON \\nABNORMALITIES OBSERVED in MDS, 45,X,-Y[20], FLT3 negative, NPM1 \\nnegative.  \\n \\nBONE MARROW ___: Prelim results show 7% blasts  \\nTREATMENT HISTORY:  \\n - ___: C1 Decitabine  \\n - ___: C2 Decitabine  \\n - ___: C3 Decitabine  \\n - ___: C4 Decitabine  \\n - ___: Allo, MRD, reduced-intensity flu/Bu. \\nCourse complicated by pure red cell aplasia requiring pheresis \\n(x7) and rituximab (x4), acute GVHD of the gut  \\n \\n **Peripheral engraftment ___: 99% donor  \\n **Bone marrow engraftment ___: 98% donor  \\n ***Peripheral engraftment ___: 99% donor  \\n ***Peripheral engraftment ___: 100% donor  \\n ***Peripheral engraftment ___: 100% donor  \\n ***Bone arrow engraftment ___: 100% donor  \\n ***Peripheral blood engraftment ___: 100% donor  \\n ***Peripheral blood engraftment (cytogenetics done at ___,  \\n ___: FISH: X 5.5%, XY 94.5%. 189 of 200 (94.5%) \\ninterphase peripheral blood cells examined had the male probe \\nsignal pattern of the bone marrow donor. 11 of 200 (5.5%) cells \\nhad a probe signal pattern with the Y chromosome signal missing \\nthat corresponds to the recipient's pre-transplant 45,X,-Y[20] \\nkaryotype.  \\n ***Peripheral blood engraftment ___: 100% donor  \\n Other events:  \\n --___: Admitted for GVHD of the gut  \\n --___: Admitted, found to have stenotrophomonas and \\naspergillus in BAL  \\n --___: Admitted with hypotension in setting of ?afib with \\nRVR, started on digoxin  \\n --___: Started on posaconazole for fungal prophylaxis  \\n --___: Admitted with blood cultures + for GNR, citrobacter, \\nlikely in setting of infected line, on meropenem --> cefepime \\n--> completing a 2 week course of outpatient cipro  \\n --___: Admitted in setting of afib with RVR and \\nshortness of breath, found to have RLL consistent with nocardia \\nnova, on imipenem and minocycline for likely a 2 month course  \\n --___: Changed to CTX/minocycline  \\n --___: Minocycline and posaconazole on hold due to elevated \\nLFTs  \\n \\nADDITIONAL TREATMENT:  \\n - ___: C1: IVIG  \\n - ___: C2: IVIG  \\n - ___: C3: IVIG  \\n - ___: C4 IVIG  \\n - ___: IVIG  \\n ***Voriconazole stopped on ___  \\n ***Posaconazole started on ___, on hold since ___  \\n \\nPAST MEDICAL/SURGICAL HISTORY:  \\n - pAtrial fibrillation with RVR  \\n - HTN  \\n - Basal cell carcinoma  \\n - Sleep apnea on CPAP  \\n - GERD s/p EGD  \\n - s/p inguinal hernia repair w/ mesh  \\n\\n \\nSocial History:\\n___\\nFamily History:\\n- Mother: alive at ___  \\n- Father: deceased at ___ from cardiac problems, hx of lung CA  \\n- Malignancies: as above and sister had breast cancer\\n\\n \\nPhysical Exam:\\n*ADMISSION PHYSICAL EXAM*\\nVS: 98  103/62  91  20  97%ra  \\nWeight: 172lb\\nAdmission weight: 176lbs\\nGENERAL:  Alert, oriented, well appearing sitting up in chair\\nHEENT:  +thrush on tongue and oropharynx, multiple soft \\nsubcutaneous neck masses in supraclavicular area that are \\nnon-tender\\nCARDIAC: tachycardic, irreg irreg, no murmurs\\nRESP:  LCAB in posterior and anterior lung fields, good air \\nmovement\\nABDOMEN: soft, non-tender\\nEXTREMITIES:  1+ edema upper shins bilaterally, wearing \\ncompression stockings\\nSKIN:  numerous ecchymoses on arms, chest; large ecchymosis on R \\nlateral anterior chest that is tender to palpation\\n\\n*DISCHARGE PHYSICAL EXAM*\\nVS: 98.1 110s/70s 70 19 ___/50 sitting 92/60 standing 90/60 \\nWeight today: ___. 180 on ___ <- 175.2 \\non ___ <- 169.5 on ___ <- 176 on admission\\nGENERAL:  Alert, oriented, well appearing sitting up in bed\\nHEENT:  MMM no oropharyngeal lesions\\nNECK: JVP not elevated today; negative abdominojugular reflex\\nCARDIAC: irreg irreg, no murmurs\\nRESP:  Good air movement, bibasilar crackles\\nABDOMEN: soft, non-tender\\nEXTREMITIES:\\n- 2+ pitting edema to lower shins shins bilaterally \\n- LUE: swelling distal to L antecubital PICC appears improved \\nfrom yesterday. nontender no ertyehma \\nSKIN:  numerous ecchymoses on arms, chest; large ecchymosis on R \\nlateral anterior chest that is tender to palpation\\n \\nPertinent Results:\\n*ADMISSION LABS*\\n\\n___ 08:55AM BLOOD WBC-6.8 RBC-2.42* Hgb-8.9* Hct-27.9* \\nMCV-115* MCH-36.8* MCHC-31.9* RDW-22.7* RDWSD-94.0* Plt Ct-59*\\n___ 08:55AM BLOOD Neuts-94* Bands-0 Lymphs-2* Monos-4* \\nEos-0 Baso-0 ___ Myelos-0 NRBC-2* AbsNeut-6.39* \\nAbsLymp-0.14* AbsMono-0.27 AbsEos-0.00* AbsBaso-0.00*\\n___ 08:55AM BLOOD Hypochr-NORMAL Anisocy-1+ Poiklo-1+ \\nMacrocy-3+ Microcy-NORMAL Polychr-OCCASIONAL Ovalocy-1+ \\nSchisto-OCCASIONAL Tear Dr-OCCASIONAL\\n___ 08:55AM BLOOD ___ PTT-24.1* ___\\n___ 08:55AM BLOOD Glucose-170* UreaN-45* Creat-0.9 Na-145 \\nK-3.4 Cl-105 HCO3-30 AnGap-13\\n___ 08:55AM BLOOD ALT-175* AST-60* LD(LDH)-432* \\nAlkPhos-206* TotBili-0.5\\n___ 08:55AM BLOOD Calcium-9.0 Phos-2.8 Mg-2.3 UricAcd-9.0*\\n\\n*PERTINENT INTERVAL LABS*\\n\\n___:03PM BLOOD  WBC-3.9* Lymph-2.0* Abs ___ CD3%-86 \\nAbs CD3-67* CD4%-67 Abs CD4-53* CD8%-18 Abs CD8-14* \\nCD4/CD8-3.72*\\n___ 02:28PM BLOOD cTropnT-<0.01\\n___ 12:00AM BLOOD TSH-4.2\\n___ 12:00AM BLOOD T4-5.2\\n___ 12:28AM BLOOD Digoxin-0.5*\\n\\nCBC TREND:\\n___ 11:44PM BLOOD WBC-4.8 RBC-2.07* Hgb-7.6* Hct-23.0* \\nMCV-111* MCH-36.7* MCHC-33.0 RDW-20.7* RDWSD-82.1* Plt Ct-21*\\n___ 11:27PM BLOOD WBC-3.2* RBC-1.86* Hgb-6.8* Hct-20.4* \\nMCV-110* MCH-36.6* MCHC-33.3 RDW-21.1* RDWSD-81.6* Plt Ct-28*\\n___ 12:00AM BLOOD WBC-2.9* RBC-2.19* Hgb-7.7* Hct-23.1* \\nMCV-106* MCH-35.2* MCHC-33.3 RDW-22.7* RDWSD-83.3* Plt Ct-23*\\n___ 12:00AM BLOOD WBC-2.8* RBC-2.21* Hgb-7.9* Hct-23.6* \\nMCV-107* MCH-35.7* MCHC-33.5 RDW-22.8* RDWSD-85.1* Plt Ct-25*\\n___ 12:00AM BLOOD WBC-2.1* RBC-2.22* Hgb-7.9* Hct-23.7* \\nMCV-107* MCH-35.6* MCHC-33.3 RDW-22.8* RDWSD-85.8* Plt Ct-25*\\n___ 12:00AM BLOOD WBC-2.0* RBC-2.28* Hgb-8.2* Hct-24.5* \\nMCV-108* MCH-36.0* MCHC-33.5 RDW-23.1* RDWSD-90.9* Plt Ct-36*\\n___ 12:00AM BLOOD WBC-1.9* RBC-1.91* Hgb-7.0* Hct-20.7* \\nMCV-108* MCH-36.6* MCHC-33.8 RDW-23.2* RDWSD-91.3* Plt Ct-31*\\n\\nAM CORTISOL:\\n___ 07:42AM BLOOD Cortsol-12.8\\n\\nIGG TREND\\n___ 07:42AM BLOOD IgG-617*\\nIgG trend\\n___ 08:55AM BLOOD IgG-245*\\n\\nLFT TREND:\\n\\n___ 08:55AM BLOOD ALT-175* AST-60* LD(___)-432* \\nAlkPhos-206* TotBili-0.5\\n___ 04:54AM BLOOD ALT-166* AST-61* LD(___)-455* \\nAlkPhos-203* TotBili-0.7\\n___ 05:20AM BLOOD ALT-203* AST-111* LD(___)-475* \\nAlkPhos-205* TotBili-0.9\\n___ 05:30AM BLOOD ALT-186* AST-72* LD(___)-398* \\nAlkPhos-205* TotBili-0.8\\n___ 04:40PM BLOOD LD(___)-434*\\n___ 12:28AM BLOOD ALT-137* AST-45* LD(___)-359* \\nAlkPhos-195* TotBili-0.6\\n___ 12:00AM BLOOD ALT-106* AST-38 LD(___)-396* AlkPhos-201* \\nTotBili-0.8\\n___ 12:00AM BLOOD ALT-61* AST-47* LD(___)-347* AlkPhos-195* \\nTotBili-0.6\\n___ 12:00AM BLOOD ALT-49* AST-34 LD(___)-377* AlkPhos-230* \\nTotBili-0.6\\n___ 12:00AM BLOOD ALT-36 AST-31 LD(___)-393* AlkPhos-218* \\nTotBili-0.7\\n___ 12:00AM BLOOD ALT-32 AST-34 LD(___)-431* AlkPhos-223* \\nTotBili-0.7\\n___ 12:21AM BLOOD ALT-25 AST-29 LD(___)-374* AlkPhos-184* \\nTotBili-0.6\\n___ 12:00AM BLOOD ALT-22 AST-27 LD(LDH)-362* AlkPhos-175* \\nTotBili-0.5\\n___ 12:00AM BLOOD ALT-20 AST-29 LD(LDH)-334* AlkPhos-216* \\nTotBili-0.4\\n___ 12:00AM BLOOD ALT-32 AST-40 LD(LDH)-381* AlkPhos-300* \\nTotBili-0.4\\n___ 12:00AM BLOOD ALT-30 AST-39 LD(___)-341* AlkPhos-296* \\nTotBili-0.3\\n___ 12:45AM BLOOD ALT-42* AST-48* LD(___)-372* AlkPhos-382* \\nTotBili-0.5\\n___ 12:00AM BLOOD ALT-56* AST-65* LD(___)-390* AlkPhos-474* \\nTotBili-0.4\\n\\nDISCHARGE LABS:\\n___ 12:00AM BLOOD WBC-2.4* RBC-2.35* Hgb-8.3* Hct-24.3* \\nMCV-103* MCH-35.3* MCHC-34.2 RDW-24.5* RDWSD-88.3* Plt Ct-34*\\n___ 12:00AM BLOOD Neuts-66 Bands-2 Lymphs-3* Monos-26* \\nEos-0 Baso-0 ___ Metas-2* Myelos-1* NRBC-6* AbsNeut-1.63 \\nAbsLymp-0.07* AbsMono-0.62 AbsEos-0.00* AbsBaso-0.00*\\n___ 12:40AM BLOOD ___ PTT-19.3* ___\\n___ 12:00AM BLOOD  WBC-PND Lymph-PND Abs ___ CD3%-PND \\nAbs CD3-PND CD4%-PND Abs CD4-PND CD8%-PND Abs CD8-PND \\nCD4/CD8-PND\\n___ 12:00AM BLOOD Glucose-117* UreaN-23* Creat-1.1 Na-135 \\nK-4.0 Cl-103 HCO3-21* AnGap-15\\n___ 12:00AM BLOOD ALT-56* AST-65* LD(LDH)-390* AlkPhos-474* \\nTotBili-0.4\\n___ 12:00AM BLOOD Calcium-8.2* Phos-2.6* Mg-1.9\\n\\n*MICROBIOLOGY*\\n\\n___ 4:20 pm BRONCHOALVEOLAR LAVAGE      BRONCIAL LAVAGE \\nRLL. \\n\\n   GRAM STAIN (Final ___: \\n      1+    (<1 per 1000X FIELD):   POLYMORPHONUCLEAR \\nLEUKOCYTES. \\n      1+    (<1 per 1000X FIELD):   YEAST(S). \\n\\n   RESPIRATORY CULTURE (Final ___: \\n      >100,000 ORGANISMS/ML. Commensal Respiratory Flora. \\n      GRAM NEGATIVE ROD(S).    >100,000 ORGANISMS/ML.. \\n         ASAIA SPP. UNABLE TO DETERMINE SPECIES.. \\n         IDENTIFICATION PERFORMED BY ___. \\n      STENOTROPHOMONAS MALTOPHILIA.    ~6OOO/ML. \\n         FURTHER WORKUP ON REQUEST ONLY Isolates are considered \\npotential\\n         pathogens in amounts >=10,000 cfu/ml. \\n         IDENTIFICATION & Sensitivity testing per ___ \\n___. \\n\\n   POTASSIUM HYDROXIDE PREPARATION (Final ___: \\n      TEST CANCELLED, PATIENT CREDITED. \\n      if pulmonary Histoplasmosis, Coccidioidomycosis, \\nBlastomycosis,\\n      Aspergillosis or Mucormycosis is strongly suspected, \\ncontact the\\n      Microbiology Laboratory (___). \\n      This is a low yield procedure based on our in-house \\nstudies. \\n\\n   Immunoflourescent test for Pneumocystis jirovecii (carinii) \\n(Final\\n      ___:    NEGATIVE for Pneumocystis jirovecii \\n(carinii). \\n\\n   FUNGAL CULTURE (Preliminary): \\n      ___ ALBICANS, PRESUMPTIVE IDENTIFICATION. \\n         SPECIATE PER ___ ___. \\n\\n   NOCARDIA CULTURE (Preliminary):    NO NOCARDIA ISOLATED. \\n\\n   ACID FAST SMEAR (Final ___: \\n      NO ACID FAST BACILLI SEEN ON DIRECT SMEAR. \\n      NO ACID FAST BACILLI SEEN ON CONCENTRATED SMEAR. \\n\\n   ACID FAST CULTURE (Preliminary):    NO MYCOBACTERIA ISOLATED. \\n\\n\\n   VIRAL CULTURE: R/O CYTOMEGALOVIRUS (Final ___: \\n      TEST CANCELLED, PATIENT CREDITED. \\n      SPECIMEN COMBINED WITH SAMPLE # ___. \\n      Reported to and read back by ___ ___ AT \\n1220. \\n\\n   CYTOMEGALOVIRUS EARLY ANTIGEN TEST (SHELL VIAL METHOD) (Final \\n___: \\n      TEST CANCELLED, PATIENT CREDITED. \\n      SPECIMEN COMBINED WITH SAMPLE # ___. \\n\\nASPERGILLUS GALACTOMANNAN ANTIGEN\\n \\nTest                          Result              Reference \\nRange/Units\\nINDEX VALUE                   0.22                <0.50\\nASPERGILLUS AG, EIA, BAL      Not Detected        Not Detected\\n\\n*IMAGING*\\n\\n___ CT Chest WO Contrast\\nNew opacity in the right upper right middle and right lower lobe \\nhas been\\ndemonstrated with bronchus centric appearance and parenchymal \\ninvolvement\\nconcerning for extensive infectious process.  The findings have \\nevidence of\\nair bronchogram as well as ground-glass opacities.  The \\npre-existing right\\nlower lobe nodule consistent with known or cardia pneumonia \\nappears to be\\nunchanged in size.\\n\\n___HEST\\nSubstantial interval improvement of the multifocal opacities \\nthroughout the\\nright lung with minimal residual ground-glass, can be treated \\ninfection.\\n \\nStable right lower lobe nodular opacity, biopsy-proven Nocardia.\\n \\nAscending thoracic aorta top-normal size, unchanged.  Mild \\nenlargement, main\\nand right pulmonary arteries, significance indeterminate.\\n\\n___ LUE VENOUS ULTRASOUND \\nPartially occlusive thrombus involving the left axillary and \\nleft basilic vein\\nalong side a left-sided PICC.\\n\\n___ ECHO\\nThe left atrium is elongated. The right atrium is moderately \\ndilated. No atrial septal defect is seen by 2D or color Doppler. \\nThe estimated right atrial pressure is ___ mmHg. There is mild \\nsymmetric left ventricular hypertrophy with normal cavity size \\nand regional/global systolic function (LVEF>55%). There is \\nconsiderable beat-to-beat variability of the left ventricular \\nejection fraction due to an irregular rhythm/premature beats. \\nDoppler parameters are indeterminate for left ventricular \\ndiastolic function. Right ventricular chamber size and free wall \\nmotion are normal. The ascending aorta is mildly dilated. The \\naortic valve leaflets (3) appear structurally normal with good \\nleaflet excursion and no aortic stenosis. Trace aortic \\nregurgitation is seen. The mitral valve leaflets are mildly \\nthickened. There is no mitral valve prolapse. Mild to moderate \\n(___) mitral regurgitation is seen. The estimated pulmonary \\nartery systolic pressure is normal. There is an anterior space \\nwhich most likely represents a prominent fat pad. \\n\\nCompared with the prior study (images reviewed) of ___, \\nright ventricular size is normal on current images. There is \\nless tricuspid rigurgitation. Other findings are similar. \\n\\nENGRAFTMENT/CHIMERISM:\\n                     M O L E C U L A R   D I A G N O S T I C S\\n     \\nTransplant Information\\n \\nCollected   Diagnosis   Transplant Date   Donor Last Name   \\n___ First Name\\n---------   ---------   ---------------   ---------------   \\n---------------- \\n___       MDS         ___           ___              \\n___  \\n     \\nDonor Sample Date   \\n----------------- \\n    ___           \\n \\nEngraftment/Chimerism Analysis\\nCollected     Sample Type     Locus Tested     Recipient \\nSensitivity (%)\\n___      Bone Marrow     Multiple Loci               1 \\n \\nDonor Sensitivity (%)    Recipient Results (%)    Donor Results \\n(%)\\n         1                         1.0                  99.0  \\n \\nInterpretation and Comments:\\nThe recipient sensitivity indicates the lowest percent of \\nrecipient cells\\ndetected by the assay; recipient cells below this amount would \\nnot be\\ndetected. The donor sensitivity indicates the lowest percent of \\ndonor\\ncells detected by the assay; donor cells below this amount would \\nnot be\\ndetected.\\n \\nBrief Hospital Course:\\n___ w/ MDS RAEB type 2, s/p RI-allo-MRD-HSCT admitted for HCAP, \\ncourse complicated by a-fib with RVR, hyperuricemia, and ___. \\nCourse also notable for orthostatic hypotension, LUE \\nPICC-associated DVT.\\n\\n# HCAP: He presented to clinic with several days of dyspnea at \\n___, and found to have new RUL consolidation on CXR. \\nHe has a history of pulmonary aspergillosis and stenotrophomonas \\npneumonia, as well as recent nocardia nova pneumonia diagnosed \\non lung biopsy. He was started on vancomycin, imipenem, \\nambisome, and levofloxacin with improvement in his symptoms. A \\nbronchoscopy was attempted on ___ but was postponed due to \\ndevelopment of a-fib with RVR. It was eventually performed on \\n___ and BAL cultures grew stenotrophomonas. Repeat CT chest \\nshowed interval improvement in multi-focal consolidations. On \\n___ he was narrowed to Ceftriaxone/levofloxacin/posaconazole out \\nof concern for medication leading to cytopenias (see below). His \\ncough and dyspnea and resolved at discharge.\\n\\n# Atrial fibrillation with RVR: Patient has chronic atrial \\nfibrillation per Atrius records, and was previously treated with \\ndigoxin which was discontinued due to toxicity. He is currently \\non high dose metoprolol and diltiazem at home. Following \\nadmission, he developed atrial fibrillation with RVR and \\nhypotension to SBP high ___. This did resolve with short acting \\nnodal blockade. He was started on digoxin. He remained in a-fib \\nand rates gradually improved to ___. Digoxin was \\ndiscontinued due to ___ as well as history of digoxin toxicity. \\nHe is unable to be anticoagulated due to thrombocytopenia. As \\nbelow, his metop/dilt doses were downtitrated due to orthostatic \\nhypotension.\\n\\n#Orthostatic hypotension: Towards the end of his course he \\ndeveloped orthostatic hypotension which was intermittently \\nsymptomatic. This was likely multifactorial, related to \\noverdiuresis and high doses of metoprolol and diltiazem. This \\ngradually improved with holding Lasix and slight decreases in \\ndoses of metop/dilt.  To rule out other causes of hypotension, \\nwe checked an AM cortisol which was normal pointing against \\nadrenal insufficiency, and he had an ECHO which was unchanged \\nfrom prior.  \\n\\n#LUE PICC-associated DVT: On ___ he developed swelling in his \\nleft hand. Ultrasound of the LUE showed partially occlusive \\nthrombus associated with his left antecubital PICC. Swelling \\nresolved w/elevation of the left arm. His PICC was left in place \\nin light very difficult access in this patient and poor wound \\nhealing making tunneled line or port suboptimal. He was started \\non a lower dose of enoxaparin (30 mg subQ daily) because his \\nplatelets were in the ___ on ___. There ws no evidence of \\nbleeding.  PICC worked well throughout. \\n\\n#Acute on Chronic Diastolic CHF: Initially required diuresis \\nwith IV Lasix. Lasix was subsequently held from ___ in \\nsetting of orthostatic hypotension, then restarted ___ given \\nweight gain and lower extremity swelling. At discharge he had 2+ \\n___ edema. \\n\\n#Pancytopenia: Course notable for worsening pancytopenia. As \\nbelow he underwent BM biopsy ___ which showed 100% donor cells. \\nThis was thought most likely a side effect of his antibiotics, \\nand cytopenias did stabilize after swtiching to ceftriaxone on \\n___.  EBV and CMV were sent to r/o viral cause, and these were \\nnegative.\\n\\n# MDS with ___ with Excess Blasts Type II: s/p \\nreduced intensity allo MRD SCT D+405 on admission. His course is \\ncomplicated by pure red cell aplasia, improved with rituximab \\nand pheresis, and GVHD of gut. He continued on prednisone 5mg;  \\nbudesonide was stopped and stools were closely monitored - in \\npart in an effort to reduce patient's steroid load given very \\npoor wound healing. Bone marrow biopsy in clinic on ___ showed \\n100% donor cells. For his hypogammaglobulinemia, he received \\nIVIG 40mg on ___, 10mg on ___, 10 mg on ___. \\n\\n# ___: His baseline creatinine is normal, but creatinine \\nworsened to 1.7. This was felt to be due to congestive \\nnephropathy, and improved with diuresis. \\n\\nTRANSITIONAL ISSUES\\n===========================\\n**Medication changes**\\n-Afib: Discharged on Metoprolol Tartrate 50 mg PO/NG Q6H and \\nDiltiazem 60 mg PO/NG Q6H. Please consider converting to \\nextended release versions medications prior to discharge from \\nrehab.\\n-Antibiotics: Discharged on ceftriaxone 2 g IV q24 and \\nlevofloxacin. These should be continued up to his follow-up ID \\nappointment. Continued on posaconazole as well. \\n-Budesonide (which he takes for GVHD of the gut) was stopped \\nwhile inpatient as his bowel movements were stable, ___ loose \\nstools/day. Please continue to monitor stool output. \\n-Please monitor DAILY weights and lower extremity edema. \\nDischarged on 80 PO Lasix daily. He may require additional or \\nhigher doses of Lasix if clinical evidence of CHF, if weight \\nincreasing >3 lbs. Please monitor closely. \\n-We have stopped his KCl but please consider resuming if K+ is \\nlow when checked on ___. \\n-Started on lovenox 30 mg subcutaneous daily (lower dose due to \\nthrombocytopenia) for LUE DVT. Please consider increasing dose \\nif platelets rise about 50.\\n\\n***Other transitional issues***\\n- OPAT Labs: For ceftriaxone, please check CBC with diff, \\nBUN/Cr, LFTs weekly. For levofloxacin please check AST, ALT, \\nTBili, ALK PHOS 7 days post discharge. ALL LAB RESULTS SHOULD BE \\nSENT TO:\\nATTN: ___ CLINIC - FAX: ___\\n- He has continued on weekly IVIG 10mg q ___\\n- Monitor QTc twice weekly while on levofloxacin and \\nposaconazole\\n- Please consider starting ___ prophylaxis given CD4 count most \\nrecently of 53. A repeat CD4 count was pending at discharge. \\n- He should continue to have weekly beta glucan testing for hx \\nof invasive aspergillosis\\n-Please check CBC, electrolyte panel, LFTs on ___. Fax \\nresults to ___ clinic attention ___ ___.\\n\\n- Discharge weight: 187.9 lbs \\n\\n# CODE: FULL CODE \\n# EMERGENCY CONTACT: ___ (wife, ___\\n\\n \\nMedications on Admission:\\nThe Preadmission Medication list is accurate and complete.\\n1. Acyclovir 400 mg PO Q12H \\n2. Bisacodyl 10 mg PO DAILY:PRN constipation \\n3. copper gluconate 3 mg oral DAILY \\n4. Dexamethasone Oral Soln (0.1mg/1mL) 5 mL ORAL TID \\n5. Docusate Sodium 100 mg PO BID \\n6. Hydrocortisone Acetate Suppository ___AILY PRN \\nhemorrhoids \\n7. Multivitamins 1 TAB PO DAILY \\n8. Potassium Chloride 20 mEq PO DAILY \\n9. Simethicone 80 mg PO QID:PRN gas and bloating \\n10. Triamcinolone Acetonide 0.1% Ointment 1 Appl TP BID:PRN rash \\n\\n11. Ursodiol 300 mg PO BID \\n12. Vitamin D ___ UNIT PO DAILY \\n13. Cyclosporine 0.05% Ophth Emulsion 2 gtt Other BID \\n14. Lorazepam 0.5 mg PO QHS \\n15. Atovaquone Suspension 1500 mg PO DAILY \\n16. Diltiazem Extended-Release 360 mg PO DAILY \\n17. Furosemide 20 mg PO DAILY \\n18. Metoprolol Succinate XL 150 mg PO BID \\n19. PredniSONE 5 mg PO DAILY \\n20. Magnesium Oxide 400 mg PO BID \\n21. Budesonide 3 mg PO TID \\n22. FoLIC Acid 5 mg PO DAILY \\n23. Pantoprazole 40 mg PO Q24H \\n24. CeftriaXONE 2 gm IV Q24H \\n\\n \\nDischarge Medications:\\n1. Atovaquone Suspension 1500 mg PO DAILY \\n2. Bisacodyl 10 mg PO DAILY:PRN constipation \\n3. FoLIC Acid 5 mg PO DAILY \\n4. Hydrocortisone Acetate Suppository ___AILY PRN \\nhemorrhoids \\n5. Multivitamins 1 TAB PO DAILY \\n6. Pantoprazole 40 mg PO Q24H \\n7. PredniSONE 5 mg PO DAILY \\n8. Simethicone 80 mg PO QID:PRN gas and bloating \\n9. Ursodiol 300 mg PO BID \\n10. Vitamin D ___ UNIT PO DAILY \\n11. Outpatient Lab Work\\nALL LAB RESULTS SHOULD BE SENT TO:\\nATTN: ___ CLINIC - FAX: ___\\n\\nQUINOLONES: 7 DAYS POST DISCHARGE: AST, ALT, TB, ALK PHOS\\nCEFTRIAXONE: WEEKLY CBC with diff, BUN/Cr, LFTs weekly. \\n12. CeftriaXONE 2 gm IV Q24H \\n13. Diltiazem 60 mg PO Q6H \\n14. Metoprolol Tartrate 50 mg PO Q6H \\n15. Posaconazole Delayed Release Tablet 300 mg PO DAILY \\n16. Levofloxacin 750 mg PO DAILY \\n17. Enoxaparin Sodium 30 mg SC Q24H \\nStart: ___, First Dose: Next Routine Administration Time \\n18. Furosemide 80 mg PO DAILY \\n19. Acyclovir 400 mg PO Q8H \\n\\n \\nDischarge Disposition:\\nExtended Care\\n \\nFacility:\\n___\\n \\nDischarge Diagnosis:\\nPRIMARY DIAGNOSIS\\nHealth Care Associated Pneumonia\\nPICC-associated partial deep vein thrombosis\\northostatic hypotension\\n\\nSECONDARY DIAGNOSIS\\nAtrial Fibrillation\\nAcute Kidney Injury\\nMyelodysplastic Syndrome\\nHypogammaglobulinemia\\n\\n \\nDischarge Condition:\\nMental Status: Clear and coherent.\\nLevel of Consciousness: Alert and interactive.\\nActivity Status: Ambulatory - requires assistance or aid (walker \\nor cane).\\n\\n \\nDischarge Instructions:\\nDear Mr. ___,\\n\\nIt was a pleasure caring for you at ___. You came to the \\nhospital because of concern for a pneumonia. We treated you with \\nantibiotics and you improved. We did a procedure called a \\nbronchoscopy and obtained a sample of your lung fluid, which \\nshowed bacterial infection. You will require continued \\nantibiotics after discharge.\\n\\nYou also had some low blood pressures while you were in the \\nhospital. These improved when we decreased the doses of your \\ndiltiazem and metoprolol.\\n\\nWe also found that you have a partial blood clot associated with \\nyour PICC.  This will be monitored closely and you will be given \\na low dose of a blood thinner. Please let your doctor know if at \\nany time you have worsening swelling or pain in the hand or arm, \\nor if you have any bleeding at all.\\n\\nImportant instructions:\\n- Please participate with physical therapy every day. This is \\nvery important to regain your mobility and function.\\n- Stay away from high salt foods as this will make you retain \\nfluid\\n- Continue taking antibiotics for your pneumonia\\n- Continue all other medications as prescribed\\n\\nWe wish you the best!\\n\\nSincerely,\\nYour ___ Care Team\\n \\nFollowup Instructions:\\n___\\n\""
      ]
     },
     "execution_count": 102,
     "metadata": {},
     "output_type": "execute_result"
    }
   ],
   "source": [
    "view.text.iloc[0]"
   ]
  },
  {
   "cell_type": "code",
   "execution_count": 89,
   "metadata": {},
   "outputs": [
    {
     "data": {
      "text/plain": [
       "'\\n___ ___ ___\\n\\n\\n\\nOPERATIVE REPORT\\n\\n___.\\nSigned Electronically by ___ on ___ ___ 12:24 ___\\n\\nName:  ___              ___ No:  ___\\n\\nService:                          Date:  ___\\n\\nDate of Birth:  ___        Sex:  F\\n\\nSurgeon:  ___, ___ ___\\n\\n\\nCHIEF COMPLAINT:  Back pain.\\n\\nPREOPERATIVE DIAGNOSIS:  Compression fracture, L1.\\n\\nPOSTOPERATIVE DIAGNOSIS:  Compression fracture, L1.\\n\\nINDICATIONS FOR PROCEDURE:  The patient has back pain which is in the setting\\nof L1 compression fracture.  She has done poorly with the medications, and\\ncontinues to have quite significant severe pain.  Therefore, consideration was\\ngiven to L1 kyphoplasty.\\n\\nDESCRIPTION OF PROCEDURE:  The patient was seen in the preop area.  Informed\\nconsent was obtained.  Skin was marked.\\n\\nShe was brought to the radiology suite. MAC anesthesia was induced.  Skin was\\nprepped and draped in a sterile fashion.  Time-out was performed per\\nprotocol.  One gram of Ancef was given preprocedure.\\n\\nL1 level was visualized in AP and lateral views.  Skin was infiltrated with 1%\\nlidocaine.  A #15 knife was used to make a stab incision.  A 13-gauge needle\\nwas then advanced to the middle of the L1 vertebral body using left extra\\npedicular approach.  The medial margin of the pedicle was not breached\\nin AP view until the needle was advanced in the vertebral body.  Biopsy was\\nthen obtained.\\n\\nA trocar was then introduced and advanced to the anterior edge of the\\nvertebral body, not transgressing the anterior cortex.\\n\\nAt this point, a balloon was introduced, and inflated to 150 mmHg.  Some\\ndegree of reversal of compression was clearly identified.  The balloon was\\nthen deflated.  4 mL of cement was then carefully introduced into the\\nvertebral body under continuous AP and lateral fluoroscopic imaging.  There\\nwas no extravasation of the cement.\\n\\nThe needle was then slowly withdrawn.\\n\\nCOMPLICATIONS:  Procedure was well-tolerated.  There were no\\ncomplications.\\n\\nINTRAVENOUS FLUIDS:  1 L of crystalloid was given.\\n\\nBLOOD LOSS:  Minimal.\\n\\nSPECIMENS:  L1 vertebral body was sent for biopsy.\\n\\nDISPOSITION:  The patient was then taken to recovery where\\nshe was doing well, and then subsequently discharged home.\\n\\nPOSTOPERATIVE PLAN:  The patient will come for a follow-up\\nvisit with me in ___ weeks.\\n\\n\\n\\n                        ___, MD O5-ACT\\nI was physically present during all critical and key portions of\\nthe procedure and immediately available to furnish services during\\nthe entire procedure, in compliance with CMS regulations.\\n\\n\\nDictated By:  ___, MD\\n\\nMEDQUIST36\\nD:  ___ 16:40:41\\nT:  ___ 19:28:37\\n___:  ___\\n\\n\\n\\n'"
      ]
     },
     "execution_count": 89,
     "metadata": {},
     "output_type": "execute_result"
    }
   ],
   "source": [
    "view.text.iloc[0]"
   ]
  }
 ],
 "metadata": {
  "kernelspec": {
   "display_name": "clinical1",
   "language": "python",
   "name": "python3"
  },
  "language_info": {
   "codemirror_mode": {
    "name": "ipython",
    "version": 3
   },
   "file_extension": ".py",
   "mimetype": "text/x-python",
   "name": "python",
   "nbconvert_exporter": "python",
   "pygments_lexer": "ipython3",
   "version": "3.10.11"
  },
  "orig_nbformat": 4
 },
 "nbformat": 4,
 "nbformat_minor": 2
}
