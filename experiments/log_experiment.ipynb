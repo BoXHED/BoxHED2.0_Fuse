{
 "cells": [
  {
   "cell_type": "code",
   "execution_count": null,
   "metadata": {},
   "outputs": [],
   "source": [
    "import wandb\n",
    "import pandas as pd\n",
    "\n",
    "FILENAME = \"'../JSS_SUBMISSION_NEW/data/testing/iris.csv'\"\n",
    "loaded_experiment_df = pd.read_csv(FILENAME)\n",
    "\n",
    "PROJECT_NAME = \"Converted Experiments\"\n",
    "\n",
    "EXPERIMENT_NAME_COL = \"Experiment\"\n",
    "NOTES_COL = \"Notes\"\n",
    "TAGS_COL = \"Tags\"\n",
    "CONFIG_COLS = [\"Num Layers\"]\n",
    "SUMMARY_COLS = [\"Final Train Acc\", \"Final Val Acc\"]\n",
    "METRIC_COLS = [\"Training Losses\"]\n",
    "\n",
    "# Format Pandas DataFrame to make it easier to work with\n",
    "for i, row in loaded_experiment_df.iterrows():\n",
    "    run_name = row[EXPERIMENT_NAME_COL]\n",
    "    notes = row[NOTES_COL]\n",
    "    tags = row[TAGS_COL]\n",
    "\n",
    "    config = {}\n",
    "    for config_col in CONFIG_COLS:\n",
    "        config[config_col] = row[config_col]\n",
    "\n",
    "    metrics = {}\n",
    "    for metric_col in METRIC_COLS:\n",
    "        metrics[metric_col] = row[metric_col]\n",
    "\n",
    "    summaries = {}\n",
    "    for summary_col in SUMMARY_COLS:\n",
    "        summaries[summary_col] = row[summary_col]"
   ]
  }
 ],
 "metadata": {
  "language_info": {
   "name": "python"
  }
 },
 "nbformat": 4,
 "nbformat_minor": 2
}
