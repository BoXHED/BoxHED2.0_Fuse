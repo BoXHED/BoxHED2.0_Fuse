{
 "cells": [
  {
   "cell_type": "code",
   "execution_count": null,
   "metadata": {},
   "outputs": [],
   "source": [
    "import pandas as pd\n",
    "test = pd.read_csv('/home/ugrads/a/aa_ron_su/BoXHED_Fuse/JSS_SUBMISSION_NEW/data/final/Clinical-T5-Base_rad_out/3/from_epoch9/till_end_mimic_iv_extra_features_test.csv')\n",
    "train = pd.read_csv('/home/ugrads/a/aa_ron_su/BoXHED_Fuse/JSS_SUBMISSION_NEW/data/final/Clinical-T5-Base_rad_out/3/from_epoch9/till_end_mimic_iv_extra_features_train.csv')\n",
    "\n",
    "emb_df = train[['emb' + str(i) for i in range(64)]].iloc[:10]\n",
    "emb_df = emb_df.apply(lambda x: torch.tensor(x, dtype=torch.float), axis=1)\n",
    "embs = torch.stack(tuple(emb_df))\n",
    "embs = torch.unsqueeze(embs, 1)"
   ]
  }
 ],
 "metadata": {
  "language_info": {
   "name": "python"
  }
 },
 "nbformat": 4,
 "nbformat_minor": 2
}
