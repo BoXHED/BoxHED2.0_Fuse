{
 "cells": [
  {
   "cell_type": "code",
   "execution_count": 3,
   "metadata": {},
   "outputs": [],
   "source": [
    "import wandb\n",
    "import pandas as pd\n",
    "from sklearn.datasets import load_iris\n",
    "\n",
    "\n",
    "# Read our CSV into a new DataFrame\n",
    "iris = load_iris()\n",
    "\n",
    "# Create a Pandas DataFrame\n",
    "new_iris_dataframe = pd.DataFrame(data=iris.data, columns=iris.feature_names)\n"
   ]
  },
  {
   "cell_type": "code",
   "execution_count": 10,
   "metadata": {},
   "outputs": [],
   "source": [
    "new_iris_dataframe.to_csv('../JSS_SUBMISSION_NEW/data/testing/iris.csv')"
   ]
  },
  {
   "cell_type": "code",
   "execution_count": 4,
   "metadata": {},
   "outputs": [],
   "source": [
    "# Convert the DataFrame into a W&B Table\n",
    "iris_table = wandb.Table(dataframe=new_iris_dataframe)"
   ]
  },
  {
   "cell_type": "code",
   "execution_count": 11,
   "metadata": {},
   "outputs": [
    {
     "data": {
      "text/plain": [
       "ArtifactManifestEntry(path='iris.csv', digest='dFOAZsDVw0XB9EIE71o8ug==', ref=None, birth_artifact_id=None, size=2961, extra={}, local_path='/home/ugrads/a/aa_ron_su/.local/share/wandb/artifacts/staging/tmp03m1lv1x')"
      ]
     },
     "execution_count": 11,
     "metadata": {},
     "output_type": "execute_result"
    }
   ],
   "source": [
    "# Add the table to an Artifact to increase the row\n",
    "# limit to 200000 and make it easier to reuse\n",
    "iris_table_artifact = wandb.Artifact(\"iris_artifact\", type=\"dataset\")\n",
    "iris_table_artifact.add(iris_table, \"iris_table\")\n",
    "\n",
    "# Log the raw csv file within an artifact to preserve our data\n",
    "iris_table_artifact.add_file('../JSS_SUBMISSION_NEW/data/testing/iris.csv')"
   ]
  },
  {
   "cell_type": "code",
   "execution_count": 17,
   "metadata": {},
   "outputs": [
    {
     "data": {
      "text/html": [
       "Tracking run with wandb version 0.15.3"
      ],
      "text/plain": [
       "<IPython.core.display.HTML object>"
      ]
     },
     "metadata": {},
     "output_type": "display_data"
    },
    {
     "data": {
      "text/html": [
       "Run data is saved locally in <code>/home/ugrads/a/aa_ron_su/BoXHED_Fuse/src/wandb/run-20231014_222706-kd6y49yk</code>"
      ],
      "text/plain": [
       "<IPython.core.display.HTML object>"
      ]
     },
     "metadata": {},
     "output_type": "display_data"
    },
    {
     "data": {
      "text/html": [
       "Syncing run <strong><a href='https://wandb.ai/suaaron555/tables-walkthrough/runs/kd6y49yk' target=\"_blank\">smooth-eon-4</a></strong> to <a href='https://wandb.ai/suaaron555/tables-walkthrough' target=\"_blank\">Weights & Biases</a> (<a href='https://wandb.me/run' target=\"_blank\">docs</a>)<br/>"
      ],
      "text/plain": [
       "<IPython.core.display.HTML object>"
      ]
     },
     "metadata": {},
     "output_type": "display_data"
    },
    {
     "data": {
      "text/html": [
       " View project at <a href='https://wandb.ai/suaaron555/tables-walkthrough' target=\"_blank\">https://wandb.ai/suaaron555/tables-walkthrough</a>"
      ],
      "text/plain": [
       "<IPython.core.display.HTML object>"
      ]
     },
     "metadata": {},
     "output_type": "display_data"
    },
    {
     "data": {
      "text/html": [
       " View run at <a href='https://wandb.ai/suaaron555/tables-walkthrough/runs/kd6y49yk' target=\"_blank\">https://wandb.ai/suaaron555/tables-walkthrough/runs/kd6y49yk</a>"
      ],
      "text/plain": [
       "<IPython.core.display.HTML object>"
      ]
     },
     "metadata": {},
     "output_type": "display_data"
    },
    {
     "ename": "AssertionError",
     "evalue": "We don't support referring to media files across runs.",
     "output_type": "error",
     "traceback": [
      "\u001b[0;31m---------------------------------------------------------------------------\u001b[0m",
      "\u001b[0;31mAssertionError\u001b[0m                            Traceback (most recent call last)",
      "\u001b[1;32m/home/ugrads/a/aa_ron_su/BoXHED_Fuse/src/load_artifact.ipynb Cell 5\u001b[0m line \u001b[0;36m7\n\u001b[1;32m      <a href='vscode-notebook-cell://ssh-remote%2Bcse-stmi-s1.cse.tamu.edu/home/ugrads/a/aa_ron_su/BoXHED_Fuse/src/load_artifact.ipynb#W3sdnNjb2RlLXJlbW90ZQ%3D%3D?line=3'>4</a>\u001b[0m run \u001b[39m=\u001b[39m wandb\u001b[39m.\u001b[39minit(project\u001b[39m=\u001b[39m\u001b[39m\"\u001b[39m\u001b[39mtables-walkthrough\u001b[39m\u001b[39m\"\u001b[39m)\n\u001b[1;32m      <a href='vscode-notebook-cell://ssh-remote%2Bcse-stmi-s1.cse.tamu.edu/home/ugrads/a/aa_ron_su/BoXHED_Fuse/src/load_artifact.ipynb#W3sdnNjb2RlLXJlbW90ZQ%3D%3D?line=5'>6</a>\u001b[0m \u001b[39m# Log the table to visualize with a run...\u001b[39;00m\n\u001b[0;32m----> <a href='vscode-notebook-cell://ssh-remote%2Bcse-stmi-s1.cse.tamu.edu/home/ugrads/a/aa_ron_su/BoXHED_Fuse/src/load_artifact.ipynb#W3sdnNjb2RlLXJlbW90ZQ%3D%3D?line=6'>7</a>\u001b[0m run\u001b[39m.\u001b[39;49mlog({\u001b[39m\"\u001b[39;49m\u001b[39miris\u001b[39;49m\u001b[39m\"\u001b[39;49m: iris_table})\n\u001b[1;32m      <a href='vscode-notebook-cell://ssh-remote%2Bcse-stmi-s1.cse.tamu.edu/home/ugrads/a/aa_ron_su/BoXHED_Fuse/src/load_artifact.ipynb#W3sdnNjb2RlLXJlbW90ZQ%3D%3D?line=8'>9</a>\u001b[0m \u001b[39m# and Log as an Artifact to increase the available row limit!\u001b[39;00m\n\u001b[1;32m     <a href='vscode-notebook-cell://ssh-remote%2Bcse-stmi-s1.cse.tamu.edu/home/ugrads/a/aa_ron_su/BoXHED_Fuse/src/load_artifact.ipynb#W3sdnNjb2RlLXJlbW90ZQ%3D%3D?line=9'>10</a>\u001b[0m run\u001b[39m.\u001b[39mlog_artifact(iris_table_artifact)\n",
      "File \u001b[0;32m~/miniconda3/envs/clinical1/lib/python3.10/site-packages/wandb/sdk/wandb_run.py:394\u001b[0m, in \u001b[0;36m_run_decorator._noop.<locals>.wrapper\u001b[0;34m(self, *args, **kwargs)\u001b[0m\n\u001b[1;32m    391\u001b[0m         wandb\u001b[39m.\u001b[39mtermwarn(message, repeat\u001b[39m=\u001b[39m\u001b[39mFalse\u001b[39;00m)\n\u001b[1;32m    392\u001b[0m         \u001b[39mreturn\u001b[39;00m \u001b[39mcls\u001b[39m\u001b[39m.\u001b[39mDummy()\n\u001b[0;32m--> 394\u001b[0m \u001b[39mreturn\u001b[39;00m func(\u001b[39mself\u001b[39;49m, \u001b[39m*\u001b[39;49margs, \u001b[39m*\u001b[39;49m\u001b[39m*\u001b[39;49mkwargs)\n",
      "File \u001b[0;32m~/miniconda3/envs/clinical1/lib/python3.10/site-packages/wandb/sdk/wandb_run.py:345\u001b[0m, in \u001b[0;36m_run_decorator._noop_on_finish.<locals>.decorator_fn.<locals>.wrapper_fn\u001b[0;34m(self, *args, **kwargs)\u001b[0m\n\u001b[1;32m    342\u001b[0m \u001b[39m@functools\u001b[39m\u001b[39m.\u001b[39mwraps(func)\n\u001b[1;32m    343\u001b[0m \u001b[39mdef\u001b[39;00m \u001b[39mwrapper_fn\u001b[39m(\u001b[39mself\u001b[39m: Type[\u001b[39m\"\u001b[39m\u001b[39mRun\u001b[39m\u001b[39m\"\u001b[39m], \u001b[39m*\u001b[39margs: Any, \u001b[39m*\u001b[39m\u001b[39m*\u001b[39mkwargs: Any) \u001b[39m-\u001b[39m\u001b[39m>\u001b[39m Any:\n\u001b[1;32m    344\u001b[0m     \u001b[39mif\u001b[39;00m \u001b[39mnot\u001b[39;00m \u001b[39mgetattr\u001b[39m(\u001b[39mself\u001b[39m, \u001b[39m\"\u001b[39m\u001b[39m_is_finished\u001b[39m\u001b[39m\"\u001b[39m, \u001b[39mFalse\u001b[39;00m):\n\u001b[0;32m--> 345\u001b[0m         \u001b[39mreturn\u001b[39;00m func(\u001b[39mself\u001b[39;49m, \u001b[39m*\u001b[39;49margs, \u001b[39m*\u001b[39;49m\u001b[39m*\u001b[39;49mkwargs)\n\u001b[1;32m    347\u001b[0m     default_message \u001b[39m=\u001b[39m (\n\u001b[1;32m    348\u001b[0m         \u001b[39mf\u001b[39m\u001b[39m\"\u001b[39m\u001b[39mRun (\u001b[39m\u001b[39m{\u001b[39;00m\u001b[39mself\u001b[39m\u001b[39m.\u001b[39mid\u001b[39m}\u001b[39;00m\u001b[39m) is finished. The call to `\u001b[39m\u001b[39m{\u001b[39;00mfunc\u001b[39m.\u001b[39m\u001b[39m__name__\u001b[39m\u001b[39m}\u001b[39;00m\u001b[39m` will be ignored. \u001b[39m\u001b[39m\"\u001b[39m\n\u001b[1;32m    349\u001b[0m         \u001b[39mf\u001b[39m\u001b[39m\"\u001b[39m\u001b[39mPlease make sure that you are using an active run.\u001b[39m\u001b[39m\"\u001b[39m\n\u001b[1;32m    350\u001b[0m     )\n\u001b[1;32m    351\u001b[0m     resolved_message \u001b[39m=\u001b[39m message \u001b[39mor\u001b[39;00m default_message\n",
      "File \u001b[0;32m~/miniconda3/envs/clinical1/lib/python3.10/site-packages/wandb/sdk/wandb_run.py:335\u001b[0m, in \u001b[0;36m_run_decorator._attach.<locals>.wrapper\u001b[0;34m(self, *args, **kwargs)\u001b[0m\n\u001b[1;32m    333\u001b[0m         \u001b[39mraise\u001b[39;00m e\n\u001b[1;32m    334\u001b[0m     \u001b[39mcls\u001b[39m\u001b[39m.\u001b[39m_is_attaching \u001b[39m=\u001b[39m \u001b[39m\"\u001b[39m\u001b[39m\"\u001b[39m\n\u001b[0;32m--> 335\u001b[0m \u001b[39mreturn\u001b[39;00m func(\u001b[39mself\u001b[39;49m, \u001b[39m*\u001b[39;49margs, \u001b[39m*\u001b[39;49m\u001b[39m*\u001b[39;49mkwargs)\n",
      "File \u001b[0;32m~/miniconda3/envs/clinical1/lib/python3.10/site-packages/wandb/sdk/wandb_run.py:1751\u001b[0m, in \u001b[0;36mRun.log\u001b[0;34m(self, data, step, commit, sync)\u001b[0m\n\u001b[1;32m   1744\u001b[0m \u001b[39mif\u001b[39;00m sync \u001b[39mis\u001b[39;00m \u001b[39mnot\u001b[39;00m \u001b[39mNone\u001b[39;00m:\n\u001b[1;32m   1745\u001b[0m     deprecate\u001b[39m.\u001b[39mdeprecate(\n\u001b[1;32m   1746\u001b[0m         field_name\u001b[39m=\u001b[39mdeprecate\u001b[39m.\u001b[39mDeprecated\u001b[39m.\u001b[39mrun__log_sync,\n\u001b[1;32m   1747\u001b[0m         warning_message\u001b[39m=\u001b[39m(\n\u001b[1;32m   1748\u001b[0m             \u001b[39m\"\u001b[39m\u001b[39m`sync` argument is deprecated and does not affect the behaviour of `wandb.log`\u001b[39m\u001b[39m\"\u001b[39m\n\u001b[1;32m   1749\u001b[0m         ),\n\u001b[1;32m   1750\u001b[0m     )\n\u001b[0;32m-> 1751\u001b[0m \u001b[39mself\u001b[39;49m\u001b[39m.\u001b[39;49m_log(data\u001b[39m=\u001b[39;49mdata, step\u001b[39m=\u001b[39;49mstep, commit\u001b[39m=\u001b[39;49mcommit)\n",
      "File \u001b[0;32m~/miniconda3/envs/clinical1/lib/python3.10/site-packages/wandb/sdk/wandb_run.py:1532\u001b[0m, in \u001b[0;36mRun._log\u001b[0;34m(self, data, step, commit)\u001b[0m\n\u001b[1;32m   1529\u001b[0m \u001b[39mif\u001b[39;00m \u001b[39many\u001b[39m(\u001b[39mnot\u001b[39;00m \u001b[39misinstance\u001b[39m(key, \u001b[39mstr\u001b[39m) \u001b[39mfor\u001b[39;00m key \u001b[39min\u001b[39;00m data\u001b[39m.\u001b[39mkeys()):\n\u001b[1;32m   1530\u001b[0m     \u001b[39mraise\u001b[39;00m \u001b[39mValueError\u001b[39;00m(\u001b[39m\"\u001b[39m\u001b[39mKey values passed to `wandb.log` must be strings.\u001b[39m\u001b[39m\"\u001b[39m)\n\u001b[0;32m-> 1532\u001b[0m \u001b[39mself\u001b[39;49m\u001b[39m.\u001b[39;49m_partial_history_callback(data, step, commit)\n\u001b[1;32m   1534\u001b[0m \u001b[39mif\u001b[39;00m step \u001b[39mis\u001b[39;00m \u001b[39mnot\u001b[39;00m \u001b[39mNone\u001b[39;00m:\n\u001b[1;32m   1535\u001b[0m     \u001b[39mif\u001b[39;00m os\u001b[39m.\u001b[39mgetpid() \u001b[39m!=\u001b[39m \u001b[39mself\u001b[39m\u001b[39m.\u001b[39m_init_pid \u001b[39mor\u001b[39;00m \u001b[39mself\u001b[39m\u001b[39m.\u001b[39m_is_attached:\n",
      "File \u001b[0;32m~/miniconda3/envs/clinical1/lib/python3.10/site-packages/wandb/sdk/wandb_run.py:1402\u001b[0m, in \u001b[0;36mRun._partial_history_callback\u001b[0;34m(self, row, step, commit)\u001b[0m\n\u001b[1;32m   1399\u001b[0m \u001b[39mif\u001b[39;00m \u001b[39mself\u001b[39m\u001b[39m.\u001b[39m_backend \u001b[39mand\u001b[39;00m \u001b[39mself\u001b[39m\u001b[39m.\u001b[39m_backend\u001b[39m.\u001b[39minterface:\n\u001b[1;32m   1400\u001b[0m     not_using_tensorboard \u001b[39m=\u001b[39m \u001b[39mlen\u001b[39m(wandb\u001b[39m.\u001b[39mpatched[\u001b[39m\"\u001b[39m\u001b[39mtensorboard\u001b[39m\u001b[39m\"\u001b[39m]) \u001b[39m==\u001b[39m \u001b[39m0\u001b[39m\n\u001b[0;32m-> 1402\u001b[0m     \u001b[39mself\u001b[39;49m\u001b[39m.\u001b[39;49m_backend\u001b[39m.\u001b[39;49minterface\u001b[39m.\u001b[39;49mpublish_partial_history(\n\u001b[1;32m   1403\u001b[0m         row,\n\u001b[1;32m   1404\u001b[0m         user_step\u001b[39m=\u001b[39;49m\u001b[39mself\u001b[39;49m\u001b[39m.\u001b[39;49m_step,\n\u001b[1;32m   1405\u001b[0m         step\u001b[39m=\u001b[39;49mstep,\n\u001b[1;32m   1406\u001b[0m         flush\u001b[39m=\u001b[39;49mcommit,\n\u001b[1;32m   1407\u001b[0m         publish_step\u001b[39m=\u001b[39;49mnot_using_tensorboard,\n\u001b[1;32m   1408\u001b[0m     )\n",
      "File \u001b[0;32m~/miniconda3/envs/clinical1/lib/python3.10/site-packages/wandb/sdk/interface/interface.py:567\u001b[0m, in \u001b[0;36mInterfaceBase.publish_partial_history\u001b[0;34m(self, data, user_step, step, flush, publish_step, run)\u001b[0m\n\u001b[1;32m    556\u001b[0m \u001b[39mdef\u001b[39;00m \u001b[39mpublish_partial_history\u001b[39m(\n\u001b[1;32m    557\u001b[0m     \u001b[39mself\u001b[39m,\n\u001b[1;32m    558\u001b[0m     data: \u001b[39mdict\u001b[39m,\n\u001b[0;32m   (...)\u001b[0m\n\u001b[1;32m    563\u001b[0m     run: Optional[\u001b[39m\"\u001b[39m\u001b[39mRun\u001b[39m\u001b[39m\"\u001b[39m] \u001b[39m=\u001b[39m \u001b[39mNone\u001b[39;00m,\n\u001b[1;32m    564\u001b[0m ) \u001b[39m-\u001b[39m\u001b[39m>\u001b[39m \u001b[39mNone\u001b[39;00m:\n\u001b[1;32m    565\u001b[0m     run \u001b[39m=\u001b[39m run \u001b[39mor\u001b[39;00m \u001b[39mself\u001b[39m\u001b[39m.\u001b[39m_run\n\u001b[0;32m--> 567\u001b[0m     data \u001b[39m=\u001b[39m history_dict_to_json(run, data, step\u001b[39m=\u001b[39;49muser_step, ignore_copy_err\u001b[39m=\u001b[39;49m\u001b[39mTrue\u001b[39;49;00m)\n\u001b[1;32m    568\u001b[0m     data\u001b[39m.\u001b[39mpop(\u001b[39m\"\u001b[39m\u001b[39m_step\u001b[39m\u001b[39m\"\u001b[39m, \u001b[39mNone\u001b[39;00m)\n\u001b[1;32m    570\u001b[0m     \u001b[39m# add timestamp to the history request, if not already present\u001b[39;00m\n\u001b[1;32m    571\u001b[0m     \u001b[39m# the timestamp might come from the tensorboard log logic\u001b[39;00m\n",
      "File \u001b[0;32m~/miniconda3/envs/clinical1/lib/python3.10/site-packages/wandb/sdk/data_types/utils.py:52\u001b[0m, in \u001b[0;36mhistory_dict_to_json\u001b[0;34m(run, payload, step, ignore_copy_err)\u001b[0m\n\u001b[1;32m     48\u001b[0m         payload[key] \u001b[39m=\u001b[39m history_dict_to_json(\n\u001b[1;32m     49\u001b[0m             run, val, step\u001b[39m=\u001b[39mstep, ignore_copy_err\u001b[39m=\u001b[39mignore_copy_err\n\u001b[1;32m     50\u001b[0m         )\n\u001b[1;32m     51\u001b[0m     \u001b[39melse\u001b[39;00m:\n\u001b[0;32m---> 52\u001b[0m         payload[key] \u001b[39m=\u001b[39m val_to_json(\n\u001b[1;32m     53\u001b[0m             run, key, val, namespace\u001b[39m=\u001b[39;49mstep, ignore_copy_err\u001b[39m=\u001b[39;49mignore_copy_err\n\u001b[1;32m     54\u001b[0m         )\n\u001b[1;32m     56\u001b[0m \u001b[39mreturn\u001b[39;00m payload\n",
      "File \u001b[0;32m~/miniconda3/envs/clinical1/lib/python3.10/site-packages/wandb/sdk/data_types/utils.py:164\u001b[0m, in \u001b[0;36mval_to_json\u001b[0;34m(run, key, val, namespace, ignore_copy_err)\u001b[0m\n\u001b[1;32m    158\u001b[0m         \u001b[39mif\u001b[39;00m \u001b[39mnot\u001b[39;00m (\n\u001b[1;32m    159\u001b[0m             \u001b[39mhasattr\u001b[39m(val, \u001b[39m\"\u001b[39m\u001b[39m_log_type\u001b[39m\u001b[39m\"\u001b[39m)\n\u001b[1;32m    160\u001b[0m             \u001b[39mand\u001b[39;00m val\u001b[39m.\u001b[39m_log_type \u001b[39min\u001b[39;00m [\u001b[39m\"\u001b[39m\u001b[39mpartitioned-table\u001b[39m\u001b[39m\"\u001b[39m, \u001b[39m\"\u001b[39m\u001b[39mjoined-table\u001b[39m\u001b[39m\"\u001b[39m]\n\u001b[1;32m    161\u001b[0m         ):\n\u001b[1;32m    162\u001b[0m             val\u001b[39m.\u001b[39mbind_to_run(run, key, namespace)\n\u001b[0;32m--> 164\u001b[0m     \u001b[39mreturn\u001b[39;00m val\u001b[39m.\u001b[39;49mto_json(run)\n\u001b[1;32m    166\u001b[0m \u001b[39mreturn\u001b[39;00m converted\n",
      "File \u001b[0;32m~/miniconda3/envs/clinical1/lib/python3.10/site-packages/wandb/data_types.py:625\u001b[0m, in \u001b[0;36mTable.to_json\u001b[0;34m(self, run_or_artifact)\u001b[0m\n\u001b[1;32m    624\u001b[0m \u001b[39mdef\u001b[39;00m \u001b[39mto_json\u001b[39m(\u001b[39mself\u001b[39m, run_or_artifact):\n\u001b[0;32m--> 625\u001b[0m     json_dict \u001b[39m=\u001b[39m \u001b[39msuper\u001b[39;49m()\u001b[39m.\u001b[39;49mto_json(run_or_artifact)\n\u001b[1;32m    627\u001b[0m     \u001b[39mif\u001b[39;00m \u001b[39misinstance\u001b[39m(run_or_artifact, wandb\u001b[39m.\u001b[39mwandb_sdk\u001b[39m.\u001b[39mwandb_run\u001b[39m.\u001b[39mRun):\n\u001b[1;32m    628\u001b[0m         json_dict\u001b[39m.\u001b[39mupdate(\n\u001b[1;32m    629\u001b[0m             {\n\u001b[1;32m    630\u001b[0m                 \u001b[39m\"\u001b[39m\u001b[39m_type\u001b[39m\u001b[39m\"\u001b[39m: \u001b[39m\"\u001b[39m\u001b[39mtable-file\u001b[39m\u001b[39m\"\u001b[39m,\n\u001b[0;32m   (...)\u001b[0m\n\u001b[1;32m    633\u001b[0m             }\n\u001b[1;32m    634\u001b[0m         )\n",
      "File \u001b[0;32m~/miniconda3/envs/clinical1/lib/python3.10/site-packages/wandb/sdk/data_types/base_types/media.py:189\u001b[0m, in \u001b[0;36mMedia.to_json\u001b[0;34m(self, run)\u001b[0m\n\u001b[1;32m    181\u001b[0m \u001b[39mif\u001b[39;00m artifact_entry_url \u001b[39mis\u001b[39;00m \u001b[39mNone\u001b[39;00m \u001b[39mor\u001b[39;00m \u001b[39mself\u001b[39m\u001b[39m.\u001b[39mis_bound():\n\u001b[1;32m    182\u001b[0m     \u001b[39massert\u001b[39;00m (\n\u001b[1;32m    183\u001b[0m         \u001b[39mself\u001b[39m\u001b[39m.\u001b[39mis_bound()\n\u001b[1;32m    184\u001b[0m     ), \u001b[39m\"\u001b[39m\u001b[39mValue of type \u001b[39m\u001b[39m{}\u001b[39;00m\u001b[39m must be bound to a run with bind_to_run() before being serialized to JSON.\u001b[39m\u001b[39m\"\u001b[39m\u001b[39m.\u001b[39mformat(\n\u001b[1;32m    185\u001b[0m         \u001b[39mtype\u001b[39m(\u001b[39mself\u001b[39m)\u001b[39m.\u001b[39m\u001b[39m__name__\u001b[39m\n\u001b[1;32m    186\u001b[0m     )\n\u001b[1;32m    188\u001b[0m     \u001b[39massert\u001b[39;00m (\n\u001b[0;32m--> 189\u001b[0m         \u001b[39mself\u001b[39m\u001b[39m.\u001b[39m_run \u001b[39mis\u001b[39;00m run\n\u001b[1;32m    190\u001b[0m     ), \u001b[39m\"\u001b[39m\u001b[39mWe don\u001b[39m\u001b[39m'\u001b[39m\u001b[39mt support referring to media files across runs.\u001b[39m\u001b[39m\"\u001b[39m\n\u001b[1;32m    192\u001b[0m     \u001b[39m# The following two assertions are guaranteed to pass\u001b[39;00m\n\u001b[1;32m    193\u001b[0m     \u001b[39m# by definition is_bound, but are needed for\u001b[39;00m\n\u001b[1;32m    194\u001b[0m     \u001b[39m# mypy to understand that these are strings below.\u001b[39;00m\n\u001b[1;32m    195\u001b[0m     \u001b[39massert\u001b[39;00m \u001b[39misinstance\u001b[39m(\u001b[39mself\u001b[39m\u001b[39m.\u001b[39m_path, \u001b[39mstr\u001b[39m)\n",
      "\u001b[0;31mAssertionError\u001b[0m: We don't support referring to media files across runs."
     ]
    }
   ],
   "source": [
    "import os\n",
    "# Start a W&B run to log data\n",
    "# wandb.login(key=os.getenv('WANDB_KEY_PERSONAL'), relogin=True) # aa_ron_su\n",
    "run = wandb.init(project=\"tables-walkthrough\")\n",
    "\n",
    "# Log the table to visualize with a run...\n",
    "run.log({\"iris\": iris_table})\n",
    "\n",
    "# and Log as an Artifact to increase the available row limit!\n",
    "run.log_artifact(iris_table_artifact)"
   ]
  }
 ],
 "metadata": {
  "kernelspec": {
   "display_name": "clinical1",
   "language": "python",
   "name": "python3"
  },
  "language_info": {
   "codemirror_mode": {
    "name": "ipython",
    "version": 3
   },
   "file_extension": ".py",
   "mimetype": "text/x-python",
   "name": "python",
   "nbconvert_exporter": "python",
   "pygments_lexer": "ipython3",
   "version": "3.10.11"
  }
 },
 "nbformat": 4,
 "nbformat_minor": 2
}
