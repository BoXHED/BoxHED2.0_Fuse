{
 "cells": [
  {
   "cell_type": "code",
   "execution_count": null,
   "metadata": {},
   "outputs": [],
   "source": [
    "import pandas as pd\n",
    "# Set pandas display options to show all rows and columns\n",
    "pd.set_option('display.max_rows', 200)\n",
    "pd.set_option('display.max_columns', None)\n",
    "pd.set_option('display.max_colwidth', None)  # Display full column width\n",
    "from helpers import convert_to_list\n",
    "\n",
    "train_path = '/home/ugrads/a/aa_ron_su/BoXHED_Fuse/JSS_SUBMISSION_NEW/data/till_end_mimic_iv_extra_features_train.csv'\n",
    "train = pd.read_csv(train_path)"
   ]
  },
  {
   "cell_type": "code",
   "execution_count": null,
   "metadata": {},
   "outputs": [],
   "source": [
    "train"
   ]
  },
  {
   "cell_type": "code",
   "execution_count": null,
   "metadata": {},
   "outputs": [],
   "source": [
    "view= train[['subject', 'Icustay', 'delta']]\n",
    "view1 = view.groupby('subject').apply(lambda x : sum(x.delta))\n",
    "view2 = view.groupby('Icustay').apply(lambda x : sum(x.delta))"
   ]
  },
  {
   "cell_type": "code",
   "execution_count": null,
   "metadata": {},
   "outputs": [],
   "source": [
    "view1.sort_values(ascending=False)"
   ]
  },
  {
   "cell_type": "code",
   "execution_count": null,
   "metadata": {},
   "outputs": [],
   "source": [
    "view2.sort_values(ascending=False).head(100)"
   ]
  },
  {
   "cell_type": "code",
   "execution_count": null,
   "metadata": {},
   "outputs": [],
   "source": [
    "len(view1), view1.sum()"
   ]
  },
  {
   "cell_type": "code",
   "execution_count": null,
   "metadata": {},
   "outputs": [],
   "source": [
    "len(view2), view2.sum()"
   ]
  },
  {
   "cell_type": "code",
   "execution_count": 1,
   "metadata": {},
   "outputs": [],
   "source": [
    "import pandas as pd\n",
    "from helpers import convert_to_list\n",
    "\n",
    "\n",
    "# train_note = pd.read_csv('/home/ugrads/a/aa_ron_su/BoXHED_Fuse/JSS_SUBMISSION_NEW/data/till_end_mimic_iv_extra_features_train_NOTE.csv')\n",
    "train_path = '/home/ugrads/a/aa_ron_su/BoXHED_Fuse/JSS_SUBMISSION_NEW/data/targets/testing/till_end_mimic_iv_extra_features_train_NOTE_TARGET_2_rad_all.csv'\n",
    "train_path2 = '/home/ugrads/a/aa_ron_su/BoXHED_Fuse/JSS_SUBMISSION_NEW/data/targets/testing/till_end_mimic_iv_extra_features_train_NOTE_TARGET_2_rad_recent.csv'\n",
    "train_target = pd.read_csv(train_path, converters = {'NOTE_ID': convert_to_list})\n",
    "train_target2 = pd.read_csv(train_path2)\n",
    "\n",
    "test_path = '/home/ugrads/a/aa_ron_su/BoXHED_Fuse/JSS_SUBMISSION_NEW/data/targets/testing/till_end_mimic_iv_extra_features_test_NOTE_TARGET_2_rad_all.csv'\n",
    "test_path2 = '/home/ugrads/a/aa_ron_su/BoXHED_Fuse/JSS_SUBMISSION_NEW/data/targets/testing/till_end_mimic_iv_extra_features_test_NOTE_TARGET_2_rad_recent.csv'\n",
    "test_target = pd.read_csv(test_path, converters = {'NOTE_ID': convert_to_list})\n",
    "test_target2 = pd.read_csv(test_path2)"
   ]
  },
  {
   "cell_type": "code",
   "execution_count": 5,
   "metadata": {},
   "outputs": [
    {
     "data": {
      "text/html": [
       "<div>\n",
       "<style scoped>\n",
       "    .dataframe tbody tr th:only-of-type {\n",
       "        vertical-align: middle;\n",
       "    }\n",
       "\n",
       "    .dataframe tbody tr th {\n",
       "        vertical-align: top;\n",
       "    }\n",
       "\n",
       "    .dataframe thead th {\n",
       "        text-align: right;\n",
       "    }\n",
       "</style>\n",
       "<table border=\"1\" class=\"dataframe\">\n",
       "  <thead>\n",
       "    <tr style=\"text-align: right;\">\n",
       "      <th></th>\n",
       "      <th>ICUSTAY_ID</th>\n",
       "      <th>NOTE_ID</th>\n",
       "      <th>delta_in_2_days</th>\n",
       "    </tr>\n",
       "  </thead>\n",
       "  <tbody>\n",
       "    <tr>\n",
       "      <th>0</th>\n",
       "      <td>30676350.0</td>\n",
       "      <td>10003019-RR-16</td>\n",
       "      <td>0</td>\n",
       "    </tr>\n",
       "    <tr>\n",
       "      <th>0</th>\n",
       "      <td>30676350.0</td>\n",
       "      <td>10003019-RR-17</td>\n",
       "      <td>0</td>\n",
       "    </tr>\n",
       "    <tr>\n",
       "      <th>0</th>\n",
       "      <td>30676350.0</td>\n",
       "      <td>10003019-RR-19</td>\n",
       "      <td>0</td>\n",
       "    </tr>\n",
       "    <tr>\n",
       "      <th>0</th>\n",
       "      <td>30676350.0</td>\n",
       "      <td>10003019-RR-20</td>\n",
       "      <td>0</td>\n",
       "    </tr>\n",
       "    <tr>\n",
       "      <th>0</th>\n",
       "      <td>30676350.0</td>\n",
       "      <td>10003019-RR-21</td>\n",
       "      <td>0</td>\n",
       "    </tr>\n",
       "    <tr>\n",
       "      <th>...</th>\n",
       "      <td>...</td>\n",
       "      <td>...</td>\n",
       "      <td>...</td>\n",
       "    </tr>\n",
       "    <tr>\n",
       "      <th>30</th>\n",
       "      <td>39765666.0</td>\n",
       "      <td>10000980-RR-57</td>\n",
       "      <td>0</td>\n",
       "    </tr>\n",
       "    <tr>\n",
       "      <th>30</th>\n",
       "      <td>39765666.0</td>\n",
       "      <td>10000980-RR-58</td>\n",
       "      <td>0</td>\n",
       "    </tr>\n",
       "    <tr>\n",
       "      <th>30</th>\n",
       "      <td>39765666.0</td>\n",
       "      <td>10000980-RR-60</td>\n",
       "      <td>0</td>\n",
       "    </tr>\n",
       "    <tr>\n",
       "      <th>30</th>\n",
       "      <td>39765666.0</td>\n",
       "      <td>10000980-RR-61</td>\n",
       "      <td>0</td>\n",
       "    </tr>\n",
       "    <tr>\n",
       "      <th>30</th>\n",
       "      <td>39765666.0</td>\n",
       "      <td>10000980-RR-62</td>\n",
       "      <td>0</td>\n",
       "    </tr>\n",
       "  </tbody>\n",
       "</table>\n",
       "<p>190 rows × 3 columns</p>\n",
       "</div>"
      ],
      "text/plain": [
       "    ICUSTAY_ID         NOTE_ID  delta_in_2_days\n",
       "0   30676350.0  10003019-RR-16                0\n",
       "0   30676350.0  10003019-RR-17                0\n",
       "0   30676350.0  10003019-RR-19                0\n",
       "0   30676350.0  10003019-RR-20                0\n",
       "0   30676350.0  10003019-RR-21                0\n",
       "..         ...             ...              ...\n",
       "30  39765666.0  10000980-RR-57                0\n",
       "30  39765666.0  10000980-RR-58                0\n",
       "30  39765666.0  10000980-RR-60                0\n",
       "30  39765666.0  10000980-RR-61                0\n",
       "30  39765666.0  10000980-RR-62                0\n",
       "\n",
       "[190 rows x 3 columns]"
      ]
     },
     "execution_count": 5,
     "metadata": {},
     "output_type": "execute_result"
    }
   ],
   "source": [
    "train_target.explode('NOTE_ID').drop_duplicates(subset='NOTE_ID')"
   ]
  },
  {
   "cell_type": "code",
   "execution_count": 9,
   "metadata": {},
   "outputs": [
    {
     "data": {
      "text/plain": [
       "31"
      ]
     },
     "execution_count": 9,
     "metadata": {},
     "output_type": "execute_result"
    }
   ],
   "source": [
    "len(train_target)"
   ]
  },
  {
   "cell_type": "code",
   "execution_count": 8,
   "metadata": {},
   "outputs": [
    {
     "data": {
      "text/plain": [
       "25"
      ]
     },
     "execution_count": 8,
     "metadata": {},
     "output_type": "execute_result"
    }
   ],
   "source": [
    "len(train_target2)"
   ]
  },
  {
   "cell_type": "code",
   "execution_count": 6,
   "metadata": {},
   "outputs": [
    {
     "data": {
      "text/html": [
       "<div>\n",
       "<style scoped>\n",
       "    .dataframe tbody tr th:only-of-type {\n",
       "        vertical-align: middle;\n",
       "    }\n",
       "\n",
       "    .dataframe tbody tr th {\n",
       "        vertical-align: top;\n",
       "    }\n",
       "\n",
       "    .dataframe thead th {\n",
       "        text-align: right;\n",
       "    }\n",
       "</style>\n",
       "<table border=\"1\" class=\"dataframe\">\n",
       "  <thead>\n",
       "    <tr style=\"text-align: right;\">\n",
       "      <th></th>\n",
       "      <th>ICUSTAY_ID</th>\n",
       "      <th>NOTE_ID</th>\n",
       "      <th>delta_in_2_days</th>\n",
       "    </tr>\n",
       "  </thead>\n",
       "  <tbody>\n",
       "    <tr>\n",
       "      <th>0</th>\n",
       "      <td>30676350.0</td>\n",
       "      <td>[10003019-RR-16, 10003019-RR-17, 10003019-RR-1...</td>\n",
       "      <td>0</td>\n",
       "    </tr>\n",
       "    <tr>\n",
       "      <th>1</th>\n",
       "      <td>31090461.0</td>\n",
       "      <td>[10002155-RR-22, 10002155-RR-23, 10002155-RR-2...</td>\n",
       "      <td>0</td>\n",
       "    </tr>\n",
       "    <tr>\n",
       "      <th>2</th>\n",
       "      <td>31090461.0</td>\n",
       "      <td>[10002155-RR-54, 10002155-RR-22, 10002155-RR-2...</td>\n",
       "      <td>0</td>\n",
       "    </tr>\n",
       "    <tr>\n",
       "      <th>3</th>\n",
       "      <td>31090461.0</td>\n",
       "      <td>[10002155-RR-54, 10002155-RR-53, 10002155-RR-2...</td>\n",
       "      <td>0</td>\n",
       "    </tr>\n",
       "    <tr>\n",
       "      <th>4</th>\n",
       "      <td>31090461.0</td>\n",
       "      <td>[10002155-RR-54, 10002155-RR-53, 10002155-RR-5...</td>\n",
       "      <td>0</td>\n",
       "    </tr>\n",
       "    <tr>\n",
       "      <th>5</th>\n",
       "      <td>31090461.0</td>\n",
       "      <td>[10002155-RR-54, 10002155-RR-53, 10002155-RR-5...</td>\n",
       "      <td>0</td>\n",
       "    </tr>\n",
       "    <tr>\n",
       "      <th>6</th>\n",
       "      <td>31205490.0</td>\n",
       "      <td>[10001725-RR-10, 10001725-RR-11, 10001725-RR-12]</td>\n",
       "      <td>0</td>\n",
       "    </tr>\n",
       "    <tr>\n",
       "      <th>7</th>\n",
       "      <td>32128372.0</td>\n",
       "      <td>[10003400-RR-49, 10003400-RR-50, 10003400-RR-5...</td>\n",
       "      <td>0</td>\n",
       "    </tr>\n",
       "    <tr>\n",
       "      <th>8</th>\n",
       "      <td>32128372.0</td>\n",
       "      <td>[10003400-RR-49, 10003400-RR-50, 10003400-RR-5...</td>\n",
       "      <td>0</td>\n",
       "    </tr>\n",
       "    <tr>\n",
       "      <th>9</th>\n",
       "      <td>32128372.0</td>\n",
       "      <td>[10003400-RR-49, 10003400-RR-50, 10003400-RR-5...</td>\n",
       "      <td>0</td>\n",
       "    </tr>\n",
       "    <tr>\n",
       "      <th>10</th>\n",
       "      <td>32358465.0</td>\n",
       "      <td>[10002155-RR-54, 10002155-RR-53, 10002155-RR-5...</td>\n",
       "      <td>0</td>\n",
       "    </tr>\n",
       "    <tr>\n",
       "      <th>11</th>\n",
       "      <td>33685454.0</td>\n",
       "      <td>[10002155-RR-22, 10002155-RR-23, 10002155-RR-2...</td>\n",
       "      <td>0</td>\n",
       "    </tr>\n",
       "    <tr>\n",
       "      <th>12</th>\n",
       "      <td>33685454.0</td>\n",
       "      <td>[10002155-RR-22, 10002155-RR-23, 10002155-RR-2...</td>\n",
       "      <td>0</td>\n",
       "    </tr>\n",
       "    <tr>\n",
       "      <th>13</th>\n",
       "      <td>33685454.0</td>\n",
       "      <td>[10002155-RR-22, 10002155-RR-23, 10002155-RR-2...</td>\n",
       "      <td>0</td>\n",
       "    </tr>\n",
       "    <tr>\n",
       "      <th>14</th>\n",
       "      <td>33685454.0</td>\n",
       "      <td>[10002155-RR-22, 10002155-RR-23, 10002155-RR-2...</td>\n",
       "      <td>0</td>\n",
       "    </tr>\n",
       "    <tr>\n",
       "      <th>15</th>\n",
       "      <td>33685454.0</td>\n",
       "      <td>[10002155-RR-22, 10002155-RR-23, 10002155-RR-2...</td>\n",
       "      <td>0</td>\n",
       "    </tr>\n",
       "    <tr>\n",
       "      <th>16</th>\n",
       "      <td>34592300.0</td>\n",
       "      <td>[10001217-RR-9, 10001217-RR-10, 10001217-RR-11...</td>\n",
       "      <td>0</td>\n",
       "    </tr>\n",
       "    <tr>\n",
       "      <th>17</th>\n",
       "      <td>34592300.0</td>\n",
       "      <td>[10001217-RR-23, 10001217-RR-9, 10001217-RR-10...</td>\n",
       "      <td>0</td>\n",
       "    </tr>\n",
       "    <tr>\n",
       "      <th>18</th>\n",
       "      <td>34807493.0</td>\n",
       "      <td>[10002428-RR-48, 10002428-RR-50, 10002428-RR-5...</td>\n",
       "      <td>0</td>\n",
       "    </tr>\n",
       "    <tr>\n",
       "      <th>19</th>\n",
       "      <td>35514836.0</td>\n",
       "      <td>[10003046-RR-6]</td>\n",
       "      <td>0</td>\n",
       "    </tr>\n",
       "    <tr>\n",
       "      <th>20</th>\n",
       "      <td>35514836.0</td>\n",
       "      <td>[10003046-RR-6, 10003046-RR-7]</td>\n",
       "      <td>0</td>\n",
       "    </tr>\n",
       "    <tr>\n",
       "      <th>21</th>\n",
       "      <td>35514836.0</td>\n",
       "      <td>[10003046-RR-6, 10003046-RR-7, 10003046-RR-8]</td>\n",
       "      <td>0</td>\n",
       "    </tr>\n",
       "    <tr>\n",
       "      <th>22</th>\n",
       "      <td>35514836.0</td>\n",
       "      <td>[10003046-RR-6, 10003046-RR-7, 10003046-RR-8, ...</td>\n",
       "      <td>0</td>\n",
       "    </tr>\n",
       "    <tr>\n",
       "      <th>23</th>\n",
       "      <td>35514836.0</td>\n",
       "      <td>[10003046-RR-6, 10003046-RR-7, 10003046-RR-8, ...</td>\n",
       "      <td>0</td>\n",
       "    </tr>\n",
       "    <tr>\n",
       "      <th>24</th>\n",
       "      <td>37049133.0</td>\n",
       "      <td>[10002930-RR-19]</td>\n",
       "      <td>0</td>\n",
       "    </tr>\n",
       "    <tr>\n",
       "      <th>25</th>\n",
       "      <td>37067082.0</td>\n",
       "      <td>[10001217-RR-9, 10001217-RR-10, 10001217-RR-11...</td>\n",
       "      <td>0</td>\n",
       "    </tr>\n",
       "    <tr>\n",
       "      <th>26</th>\n",
       "      <td>37067082.0</td>\n",
       "      <td>[10001217-RR-9, 10001217-RR-10, 10001217-RR-11...</td>\n",
       "      <td>0</td>\n",
       "    </tr>\n",
       "    <tr>\n",
       "      <th>27</th>\n",
       "      <td>39060235.0</td>\n",
       "      <td>[10002013-RR-32, 10002013-RR-34, 10002013-RR-3...</td>\n",
       "      <td>1</td>\n",
       "    </tr>\n",
       "    <tr>\n",
       "      <th>28</th>\n",
       "      <td>39060235.0</td>\n",
       "      <td>[10002013-RR-32, 10002013-RR-34, 10002013-RR-3...</td>\n",
       "      <td>1</td>\n",
       "    </tr>\n",
       "    <tr>\n",
       "      <th>29</th>\n",
       "      <td>39553978.0</td>\n",
       "      <td>[10000032-RR-14, 10000032-RR-15, 10000032-RR-1...</td>\n",
       "      <td>0</td>\n",
       "    </tr>\n",
       "    <tr>\n",
       "      <th>30</th>\n",
       "      <td>39765666.0</td>\n",
       "      <td>[10000980-RR-52, 10000980-RR-55, 10000980-RR-5...</td>\n",
       "      <td>0</td>\n",
       "    </tr>\n",
       "  </tbody>\n",
       "</table>\n",
       "</div>"
      ],
      "text/plain": [
       "    ICUSTAY_ID                                            NOTE_ID  \\\n",
       "0   30676350.0  [10003019-RR-16, 10003019-RR-17, 10003019-RR-1...   \n",
       "1   31090461.0  [10002155-RR-22, 10002155-RR-23, 10002155-RR-2...   \n",
       "2   31090461.0  [10002155-RR-54, 10002155-RR-22, 10002155-RR-2...   \n",
       "3   31090461.0  [10002155-RR-54, 10002155-RR-53, 10002155-RR-2...   \n",
       "4   31090461.0  [10002155-RR-54, 10002155-RR-53, 10002155-RR-5...   \n",
       "5   31090461.0  [10002155-RR-54, 10002155-RR-53, 10002155-RR-5...   \n",
       "6   31205490.0   [10001725-RR-10, 10001725-RR-11, 10001725-RR-12]   \n",
       "7   32128372.0  [10003400-RR-49, 10003400-RR-50, 10003400-RR-5...   \n",
       "8   32128372.0  [10003400-RR-49, 10003400-RR-50, 10003400-RR-5...   \n",
       "9   32128372.0  [10003400-RR-49, 10003400-RR-50, 10003400-RR-5...   \n",
       "10  32358465.0  [10002155-RR-54, 10002155-RR-53, 10002155-RR-5...   \n",
       "11  33685454.0  [10002155-RR-22, 10002155-RR-23, 10002155-RR-2...   \n",
       "12  33685454.0  [10002155-RR-22, 10002155-RR-23, 10002155-RR-2...   \n",
       "13  33685454.0  [10002155-RR-22, 10002155-RR-23, 10002155-RR-2...   \n",
       "14  33685454.0  [10002155-RR-22, 10002155-RR-23, 10002155-RR-2...   \n",
       "15  33685454.0  [10002155-RR-22, 10002155-RR-23, 10002155-RR-2...   \n",
       "16  34592300.0  [10001217-RR-9, 10001217-RR-10, 10001217-RR-11...   \n",
       "17  34592300.0  [10001217-RR-23, 10001217-RR-9, 10001217-RR-10...   \n",
       "18  34807493.0  [10002428-RR-48, 10002428-RR-50, 10002428-RR-5...   \n",
       "19  35514836.0                                    [10003046-RR-6]   \n",
       "20  35514836.0                     [10003046-RR-6, 10003046-RR-7]   \n",
       "21  35514836.0      [10003046-RR-6, 10003046-RR-7, 10003046-RR-8]   \n",
       "22  35514836.0  [10003046-RR-6, 10003046-RR-7, 10003046-RR-8, ...   \n",
       "23  35514836.0  [10003046-RR-6, 10003046-RR-7, 10003046-RR-8, ...   \n",
       "24  37049133.0                                   [10002930-RR-19]   \n",
       "25  37067082.0  [10001217-RR-9, 10001217-RR-10, 10001217-RR-11...   \n",
       "26  37067082.0  [10001217-RR-9, 10001217-RR-10, 10001217-RR-11...   \n",
       "27  39060235.0  [10002013-RR-32, 10002013-RR-34, 10002013-RR-3...   \n",
       "28  39060235.0  [10002013-RR-32, 10002013-RR-34, 10002013-RR-3...   \n",
       "29  39553978.0  [10000032-RR-14, 10000032-RR-15, 10000032-RR-1...   \n",
       "30  39765666.0  [10000980-RR-52, 10000980-RR-55, 10000980-RR-5...   \n",
       "\n",
       "    delta_in_2_days  \n",
       "0                 0  \n",
       "1                 0  \n",
       "2                 0  \n",
       "3                 0  \n",
       "4                 0  \n",
       "5                 0  \n",
       "6                 0  \n",
       "7                 0  \n",
       "8                 0  \n",
       "9                 0  \n",
       "10                0  \n",
       "11                0  \n",
       "12                0  \n",
       "13                0  \n",
       "14                0  \n",
       "15                0  \n",
       "16                0  \n",
       "17                0  \n",
       "18                0  \n",
       "19                0  \n",
       "20                0  \n",
       "21                0  \n",
       "22                0  \n",
       "23                0  \n",
       "24                0  \n",
       "25                0  \n",
       "26                0  \n",
       "27                1  \n",
       "28                1  \n",
       "29                0  \n",
       "30                0  "
      ]
     },
     "execution_count": 6,
     "metadata": {},
     "output_type": "execute_result"
    }
   ],
   "source": [
    "train_target"
   ]
  },
  {
   "cell_type": "code",
   "execution_count": null,
   "metadata": {},
   "outputs": [],
   "source": [
    "len(train_target2),len(train_target)"
   ]
  },
  {
   "cell_type": "code",
   "execution_count": null,
   "metadata": {},
   "outputs": [],
   "source": [
    "len(test_target2),len(test_target)"
   ]
  },
  {
   "cell_type": "code",
   "execution_count": null,
   "metadata": {},
   "outputs": [],
   "source": [
    "test_target[test_target['delta_in_2_days'] == 1]"
   ]
  },
  {
   "cell_type": "code",
   "execution_count": null,
   "metadata": {},
   "outputs": [],
   "source": [
    "test_target2[test_target2['ICUSTAY_ID'] == 30600691]"
   ]
  },
  {
   "cell_type": "code",
   "execution_count": null,
   "metadata": {},
   "outputs": [],
   "source": [
    "test_target2[test_target2['delta_in_2_days'] == 1]"
   ]
  },
  {
   "cell_type": "code",
   "execution_count": null,
   "metadata": {},
   "outputs": [],
   "source": [
    "train_target[train_target['delta_in_2_days'] == 1].NOTE_ID.iloc[1]"
   ]
  },
  {
   "cell_type": "code",
   "execution_count": null,
   "metadata": {},
   "outputs": [],
   "source": [
    "train_target2[train_target2['delta_in_2_days'] == 1].NOTE_ID"
   ]
  },
  {
   "cell_type": "code",
   "execution_count": null,
   "metadata": {},
   "outputs": [],
   "source": [
    "exploded = train_target.explode('NOTE_ID')"
   ]
  },
  {
   "cell_type": "code",
   "execution_count": null,
   "metadata": {},
   "outputs": [],
   "source": [
    "exploded"
   ]
  },
  {
   "cell_type": "code",
   "execution_count": null,
   "metadata": {},
   "outputs": [],
   "source": [
    "train_note.NOTE_ID"
   ]
  }
 ],
 "metadata": {
  "kernelspec": {
   "display_name": "clinical1",
   "language": "python",
   "name": "python3"
  },
  "language_info": {
   "codemirror_mode": {
    "name": "ipython",
    "version": 3
   },
   "file_extension": ".py",
   "mimetype": "text/x-python",
   "name": "python",
   "nbconvert_exporter": "python",
   "pygments_lexer": "ipython3",
   "version": "3.10.11"
  }
 },
 "nbformat": 4,
 "nbformat_minor": 2
}
