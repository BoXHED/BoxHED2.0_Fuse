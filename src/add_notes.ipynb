{
 "cells": [
  {
   "cell_type": "code",
   "execution_count": 1,
   "metadata": {},
   "outputs": [],
   "source": [
    "def generate_stay_and_note_timing_table(relevant_subjects, stays, notes):\n",
    "    \n",
    "    # filter for useful notes and stays data\n",
    "    def _filter_notes_and_stays(relevant_subjects, stays, notes):\n",
    "        '''\n",
    "        Get all NOTE_ID, SUBJECT_ID, and charttime from overall note data.\n",
    "        Get all SUBJECT_ID, ICUSTAY_ID, and INTIME from overall stay data.\n",
    "        Returns both dataframes.\n",
    "\n",
    "        Args:\n",
    "            relevant_subjects: all subjects in cohort (train or test), \n",
    "                drawn from time series data\n",
    "            stays: icustay data -- from MIMIC IV \n",
    "            notes: note data -- from MIMIC IV Note (Radiology or Discharge)\n",
    "        '''\n",
    "        relevant_notes = notes[notes['SUBJECT_ID'].isin(relevant_subjects)]\n",
    "        relevant_stays = stays[stays['SUBJECT_ID'].isin(relevant_subjects)]\n",
    "\n",
    "        relevant_notes = relevant_notes[['SUBJECT_ID', 'NOTE_ID', 'charttime']]\n",
    "        relevant_stays = relevant_stays[['SUBJECT_ID', 'ICUSTAY_ID', 'INTIME']]\n",
    "        return (relevant_notes, relevant_stays)\n",
    "\n",
    "    # concatenate notes and stays, grouping by subject and sorting by DATETIME\n",
    "    def _concat_and_sort_table(relevant_notes, relevant_stays):\n",
    "        '''\n",
    "        Time series concatentation and alignment of notes and stays.\n",
    "\n",
    "        args:\n",
    "            relevant notes: df with cols ['SUBJECT_ID', 'NOTE_ID', 'charttime']\n",
    "            relevant_stays: df with cols ['SUBJECT_ID', 'ICUSTAY_ID', 'INTIME']\n",
    "\n",
    "        returns:\n",
    "            stay_note_timing: df with cols ['SUBJECT_ID', 'DATETIME', 'NOTE_ID', 'ICUSTAY_ID']\n",
    "        '''\n",
    "        stay_note_timing = pd.concat([relevant_notes, relevant_stays]).sort_values(by='SUBJECT_ID')\n",
    "        stay_note_timing['DATETIME'] = stay_note_timing['INTIME'].combine_first(stay_note_timing['charttime'])\n",
    "        stay_note_timing.drop(['charttime'], axis=1, inplace=True)\n",
    "        stay_note_timing = stay_note_timing.groupby('SUBJECT_ID', group_keys=True).apply(lambda x: x.sort_values('DATETIME'))\n",
    "        stay_note_timing.reset_index(drop=True, inplace=True)\n",
    "        stay_note_timing.infer_objects()\n",
    "        return stay_note_timing\n",
    "    \n",
    "    def _fillna_icustay_by_subject(stay_note_timing_by_subject):\n",
    "        '''\n",
    "        inputs:\n",
    "            stay_note_timing_by_stay: a subset of stay_note_timing for a single subject\n",
    "\n",
    "        for all rows with notes, fill forwards with the most recent ICUSTAY_ID, filling backwards if note predates ICUSTAY.\n",
    "        '''\n",
    "        stay_note_timing_by_subject['ICUSTAY_ID'].fillna(method='ffill', inplace=True) \n",
    "        stay_note_timing_by_subject['ICUSTAY_ID'].fillna(method='bfill', inplace=True)   \n",
    "        return stay_note_timing_by_subject\n",
    "\n",
    "    \n",
    "    def _fillna_intime_by_stay(stay_note_timing_by_stay):\n",
    "        '''\n",
    "        inputs:\n",
    "            stay_note_timing_by_stay: a subset of stay_note_timing for a single stay\n",
    "\n",
    "        for all rows with notes, fill forwards with the most recent INTIME, filling backwards if note predates ICUSTAY.\n",
    "        '''\n",
    "        stay_note_timing_by_stay['INTIME'].fillna(method='ffill', inplace=True)\n",
    "        stay_note_timing_by_stay['INTIME'].fillna(method='bfill', inplace=True)\n",
    "        return stay_note_timing_by_stay\n",
    "\n",
    "    relevant_notes, relevant_stays = _filter_notes_and_stays(relevant_subjects = relevant_subjects, stays = stays, notes = notes)\n",
    "    stay_note_timing = _concat_and_sort_table(relevant_notes, relevant_stays)\n",
    "    stay_note_timing = stay_note_timing.groupby('SUBJECT_ID', group_keys=True).apply(_fillna_icustay_by_subject)\n",
    "    stay_note_timing = stay_note_timing.groupby('ICUSTAY_ID', group_keys=True).apply(_fillna_intime_by_stay)\n",
    "    \n",
    "    stay_note_timing['DATETIME'] = pd.to_datetime(stay_note_timing['DATETIME'])\n",
    "    stay_note_timing['INTIME'] = pd.to_datetime(stay_note_timing['INTIME'])\n",
    "    stay_note_timing = stay_note_timing.convert_dtypes(infer_objects=True)\n",
    "\n",
    "    stay_note_timing.dropna(inplace=True) # remove 'stay' rows which don't contain notes\n",
    "    return stay_note_timing"
   ]
  },
  {
   "cell_type": "code",
   "execution_count": 86,
   "metadata": {},
   "outputs": [],
   "source": [
    "def _insert_note_data_by_stay(mimic_iv_train_per_stay, how = \"recent\"):\n",
    "    ''' FIXME this needs to get ALL NOTES, not just most recent note.\n",
    "    for time series data for a single icustay, populate most recent note id, returning None if there are no previous notes\n",
    "\n",
    "    args:\n",
    "        mimic_iv_train_per_stay: a dataframe containing time series data for a single icu stay\n",
    "        how: from [\"recent\", \"all\"] determines how to insert note data. \n",
    "            if how = \"recent\", gets most recent note.\n",
    "            if how = \"all\", gets all notes and stores them as a list.\n",
    "    \n",
    "    returns:\n",
    "        time series data with NOTE_ID in new column 'NOTE_ID'\n",
    "    '''\n",
    "    def _populate_recent_note_id(row):\n",
    "        stay_note_timing_for_subject = stay_note_timing[stay_note_timing['SUBJECT_ID'] == row['SUBJECT_ID']]\n",
    "        prev_notes = stay_note_timing_for_subject[stay_note_timing_for_subject['DATETIME'] < row['t_start_DT']]['NOTE_ID']\n",
    "        \n",
    "        if prev_notes.empty:\n",
    "            row['NOTE_ID'] = None\n",
    "            return row\n",
    "        row['NOTE_ID'] = prev_notes.iloc[-1]\n",
    "        return row\n",
    "\n",
    "    def _populate_all_note_ids(row):\n",
    "        stay_note_timing_for_subject = stay_note_timing[stay_note_timing['SUBJECT_ID'] == row['SUBJECT_ID']]\n",
    "        prev_notes = stay_note_timing_for_subject[stay_note_timing_for_subject['DATETIME'] < row['t_start_DT']]['NOTE_ID']\n",
    "        row['NOTE_ID'] = prev_notes.tolist()\n",
    "        return row\n",
    "    \n",
    "    if how == \"recent\":\n",
    "        mimic_iv_train_per_stay = mimic_iv_train_per_stay.apply(_populate_recent_note_id, axis=1)\n",
    "    elif how == \"all\":\n",
    "        mimic_iv_train_per_stay = mimic_iv_train_per_stay.apply(_populate_all_note_ids, axis=1)\n",
    "    return mimic_iv_train_per_stay\n",
    "\n",
    "def _populate_time_since_note(row):\n",
    "    if isinstance(row['NOTE_ID'], list):\n",
    "        if row['NOTE_ID'] == []:\n",
    "            row['time_since_note'] = None\n",
    "        else:\n",
    "            charttime = stay_note_timing[stay_note_timing['NOTE_ID'] == row['NOTE_ID'][-1]]['DATETIME']\n",
    "            time_since_note = (row['t_start_DT'] - charttime.iloc[0]).total_seconds()/3600\n",
    "            row['time_since_note'] = time_since_note\n",
    "    else:\n",
    "        if pd.isna(row['NOTE_ID']):\n",
    "            row['time_since_note'] = None\n",
    "        else:\n",
    "            charttime = stay_note_timing[stay_note_timing['NOTE_ID'] == row['NOTE_ID']]['DATETIME']\n",
    "            time_since_note = (row['t_start_DT'] - charttime.iloc[0]).total_seconds()/3600\n",
    "            row['time_since_note'] = time_since_note\n",
    "    return row"
   ]
  },
  {
   "cell_type": "code",
   "execution_count": 76,
   "metadata": {},
   "outputs": [
    {
     "data": {
      "text/plain": [
       "False"
      ]
     },
     "execution_count": 76,
     "metadata": {},
     "output_type": "execute_result"
    }
   ],
   "source": [
    "# a = [[]]\n",
    "# b = [[1]]\n",
    "# c = [1]\n",
    "# d = []\n",
    "# z = pd.DataFrame([a,b,c, d])\n",
    "# # z.iloc[0].any()\n",
    "# # z.iloc[1].any()\n",
    "# # z.iloc[2].any()\n",
    "# z\n",
    "# z.iloc[3].any()"
   ]
  },
  {
   "cell_type": "code",
   "execution_count": 4,
   "metadata": {},
   "outputs": [],
   "source": [
    "# stay_note_timing_for_subject = stay_note_timing[stay_note_timing['SUBJECT_ID'] == 10000032]\n",
    "# prev_notes = stay_note_timing_for_subject[stay_note_timing_for_subject['DATETIME'] < '2180-07-23 14:00:00.000000000']\n",
    "# prev_notes = prev_notes\n",
    "\n",
    "# # if prev_notes.empty:\n",
    "# #     row['NOTE_ID'] = None\n",
    "# #     return row\n",
    "# print('prev_notes:', prev_notes)"
   ]
  },
  {
   "cell_type": "code",
   "execution_count": 5,
   "metadata": {},
   "outputs": [],
   "source": [
    "# prev_notes.NOTE_ID"
   ]
  },
  {
   "cell_type": "code",
   "execution_count": 52,
   "metadata": {},
   "outputs": [
    {
     "name": "stdout",
     "output_type": "stream",
     "text": [
      "testing = True\n",
      "read from /home/ugrads/a/aa_ron_su/BoXHED_Fuse/JSS_SUBMISSION_NEW/data/till_end_mimic_iv_extra_features_train.csv\n",
      "read from /home/ugrads/a/aa_ron_su/BoXHED_Fuse/JSS_SUBMISSION_NEW/data/till_end_mimic_iv_extra_features_test.csv\n",
      "/home/ugrads/a/aa_ron_su/BoXHED_Fuse/JSS_SUBMISSION_NEW/data/till_end_mimic_iv_extra_features_train.csv has 30716 unique Icustays\n",
      "/home/ugrads/a/aa_ron_su/BoXHED_Fuse/JSS_SUBMISSION_NEW/data/till_end_mimic_iv_extra_features_test.csv has 5352 unique Icustays\n"
     ]
    }
   ],
   "source": [
    "\n",
    "import pandas as pd\n",
    "import argparse\n",
    "\n",
    "# parser = argparse.ArgumentParser()\n",
    "# parser.add_argument('--test', action='store_true', help='enable testing mode')\n",
    "# parser.add_argument('--note-type', dest = 'note_type', help='which notes, radiology or discharge?')\n",
    "# args = parser.parse_args()\n",
    "\n",
    "args = argparse.Namespace()\n",
    "args.test = True\n",
    "args.note_type = 'radiology'\n",
    "# args.note_type = 'discharge'\n",
    "\n",
    "testing = args.test\n",
    "print(f\"testing = {testing}\")\n",
    "assert(args.note_type == 'radiology' or args.note_type == 'discharge')\n",
    "\n",
    "trainpath = '/home/ugrads/a/aa_ron_su/BoXHED_Fuse/JSS_SUBMISSION_NEW/data/till_end_mimic_iv_extra_features_train.csv' #mimic_iv_train.csv'\n",
    "testpath = '/home/ugrads/a/aa_ron_su/BoXHED_Fuse/JSS_SUBMISSION_NEW/data/till_end_mimic_iv_extra_features_test.csv' #mimic_iv_test.csv'\n",
    "\n",
    "out_trainpath = f'/home/ugrads/a/aa_ron_su/BoXHED_Fuse/JSS_SUBMISSION_NEW/data/till_end_mimic_iv_extra_features_train_NOTE_{args.note_type[:3]}.csv'# (rad for radiology, dis for discharge)\n",
    "out_testpath =  f'/home/ugrads/a/aa_ron_su/BoXHED_Fuse/JSS_SUBMISSION_NEW/data/till_end_mimic_iv_extra_features_test_NOTE_{args.note_type[:3]}.csv'\n",
    "\n",
    "mimic_iv_train = pd.read_csv(trainpath)\n",
    "mimic_iv_test = pd.read_csv(testpath)\n",
    "print(f\"read from {trainpath}\")\n",
    "print(f\"read from {testpath}\")\n",
    "\n",
    "mimic_iv_train.rename(columns={'Icustay':'ICUSTAY_ID', 'subject':'SUBJECT_ID'}, inplace=True)\n",
    "mimic_iv_test.rename(columns={'Icustay':'ICUSTAY_ID', 'subject':'SUBJECT_ID'}, inplace=True)\n",
    "\n",
    "print(f\"{trainpath} has {len(mimic_iv_train['ICUSTAY_ID'].unique())} unique Icustays\")\n",
    "print(f\"{testpath} has {len(mimic_iv_test['ICUSTAY_ID'].unique())} unique Icustays\")\n",
    "\n",
    "if testing:\n",
    "    mimic_iv_train = mimic_iv_train.iloc[:2000]\n",
    "    mimic_iv_test = mimic_iv_test.iloc[:2000]\n",
    "\n",
    "all_stays = pd.read_csv('/home/ugrads/a/aa_ron_su/BoXHED_Fuse/JSS_SUBMISSION_NEW/tmp/all_stays.csv')\n",
    "\n",
    "discharge = pd.read_csv('/data/datasets/mimiciv_notes/physionet.org/files/mimic-iv-note/2.2/note/discharge.csv')\n",
    "discharge.rename(columns={'subject_id':'SUBJECT_ID'}, inplace = True)\n",
    "discharge.rename(columns={'note_id':'NOTE_ID'}, inplace = True)\n",
    "\n",
    "radiology = pd.read_csv('/data/datasets/mimiciv_notes/physionet.org/files/mimic-iv-note/2.2/note/radiology.csv')\n",
    "radiology.rename(columns={'subject_id':'SUBJECT_ID'}, inplace = True)\n",
    "radiology.rename(columns={'note_id':'NOTE_ID'}, inplace = True)\n",
    "\n",
    "notes_to_use = radiology if args.note_type == 'radiology' else discharge\n",
    "\n",
    "\n",
    "from tqdm.auto import tqdm\n",
    "tqdm.pandas()\n",
    "from time import time"
   ]
  },
  {
   "cell_type": "code",
   "execution_count": 53,
   "metadata": {},
   "outputs": [
    {
     "name": "stdout",
     "output_type": "stream",
     "text": [
      "time 0.0007414817810058594: generating stay_note_timing_table\n"
     ]
    }
   ],
   "source": [
    "import pandas as pd\n",
    "from time import time\n",
    "# FIXME DELETEME\n",
    "df_NOTES = []\n",
    "\n",
    "tstart = time()\n",
    "\n",
    "df = mimic_iv_train\n",
    "\n",
    "relevant_subjects = set(df[\"SUBJECT_ID\"])\n",
    "print(f\"time {time() - tstart}: generating stay_note_timing_table\")\n",
    "stay_note_timing = generate_stay_and_note_timing_table(relevant_subjects, all_stays, notes_to_use)"
   ]
  },
  {
   "cell_type": "code",
   "execution_count": 10,
   "metadata": {},
   "outputs": [],
   "source": [
    "# len(stay_note_timing),len(stay_note_timing.NOTE_ID.unique()), sum(stay_note_timing.NOTE_ID.isna()), len(stay_note_timing.ICUSTAY_ID.unique())"
   ]
  },
  {
   "cell_type": "code",
   "execution_count": 10,
   "metadata": {},
   "outputs": [],
   "source": [
    "# len(stay_note_timing_OLD),len(stay_note_timing_OLD.NOTE_ID.unique()), sum(stay_note_timing_OLD.NOTE_ID.isna()), len(stay_note_timing_OLD.ICUSTAY_ID.unique())"
   ]
  },
  {
   "cell_type": "code",
   "execution_count": 11,
   "metadata": {},
   "outputs": [],
   "source": [
    "# stay_note_timing_OLD[~stay_note_timing_OLD.ICUSTAY_ID.isin(stay_note_timing.ICUSTAY_ID)]"
   ]
  },
  {
   "cell_type": "code",
   "execution_count": 54,
   "metadata": {},
   "outputs": [],
   "source": [
    "# from functools import partial\n",
    "# df_NOTES = []\n",
    "\n",
    "# tstart = time()\n",
    "\n",
    "# df = mimic_iv_train\n",
    "\n",
    "# # relevant_subjects = set(df[\"SUBJECT_ID\"])\n",
    "# # print(f\"time {time() - tstart}: generating stay_note_timing_table\")\n",
    "# # stay_note_timing = generate_stay_and_note_timing_table(relevant_subjects, all_stays, notes_to_use)\n",
    "\n",
    "# # df_tmp is populated with useful columns for our note merge.\n",
    "# df_tmp = df.copy()\n",
    "# df_tmp.rename(columns={'Icustay': 'ICUSTAY_ID'}, inplace = True) \n",
    "# print(f\"time {time() - tstart}: merging INTIME on ICUSTAY_ID\")\n",
    "# df_tmp = df_tmp.merge(all_stays[['ICUSTAY_ID', 'INTIME']], how = 'left', on ='ICUSTAY_ID') # merge with all_stays['intime'] on Icustay\n",
    "\n",
    "# df_tmp['INTIME'] = pd.to_datetime(df_tmp['INTIME'])\n",
    "# df_tmp['t_start_DT'] = df_tmp['INTIME'] + pd.to_timedelta(df_tmp['t_start'], unit='h')\n",
    "\n",
    "# print(f\"time {time() - tstart}: inserting note data by stay\")\n",
    "# df_NOTE_OLD = df_tmp.groupby('ICUSTAY_ID', group_keys=True).progress_apply(partial(_insert_note_data_by_stay, how=\"recent\"))"
   ]
  },
  {
   "cell_type": "code",
   "execution_count": 93,
   "metadata": {},
   "outputs": [
    {
     "name": "stdout",
     "output_type": "stream",
     "text": [
      "time 0.002224445343017578: merging INTIME on ICUSTAY_ID\n",
      "time 0.03413081169128418: inserting note data by stay\n"
     ]
    },
    {
     "data": {
      "application/vnd.jupyter.widget-view+json": {
       "model_id": "10e9f1a88b3c4c32aa291a50301d0cdc",
       "version_major": 2,
       "version_minor": 0
      },
      "text/plain": [
       "  0%|          | 0/16 [00:00<?, ?it/s]"
      ]
     },
     "metadata": {},
     "output_type": "display_data"
    }
   ],
   "source": [
    "from functools import partial\n",
    "df_NOTES = []\n",
    "\n",
    "tstart = time()\n",
    "\n",
    "df = mimic_iv_train\n",
    "\n",
    "# relevant_subjects = set(df[\"SUBJECT_ID\"])\n",
    "# print(f\"time {time() - tstart}: generating stay_note_timing_table\")\n",
    "# stay_note_timing = generate_stay_and_note_timing_table(relevant_subjects, all_stays, notes_to_use)\n",
    "\n",
    "# df_tmp is populated with useful columns for our note merge.\n",
    "df_tmp = df.copy()\n",
    "df_tmp.rename(columns={'Icustay': 'ICUSTAY_ID'}, inplace = True) \n",
    "print(f\"time {time() - tstart}: merging INTIME on ICUSTAY_ID\")\n",
    "df_tmp = df_tmp.merge(all_stays[['ICUSTAY_ID', 'INTIME']], how = 'left', on ='ICUSTAY_ID') # merge with all_stays['intime'] on Icustay\n",
    "\n",
    "df_tmp['INTIME'] = pd.to_datetime(df_tmp['INTIME'])\n",
    "df_tmp['t_start_DT'] = df_tmp['INTIME'] + pd.to_timedelta(df_tmp['t_start'], unit='h')\n",
    "\n",
    "print(f\"time {time() - tstart}: inserting note data by stay\")\n",
    "df_NOTE = df_tmp.groupby('ICUSTAY_ID', group_keys=True).progress_apply(partial(_insert_note_data_by_stay, how = \"all\"))"
   ]
  },
  {
   "cell_type": "code",
   "execution_count": 35,
   "metadata": {},
   "outputs": [],
   "source": [
    "lengths = df_NOTE.NOTE_ID.apply(lambda x: len(x))"
   ]
  },
  {
   "cell_type": "code",
   "execution_count": 36,
   "metadata": {},
   "outputs": [],
   "source": [
    "df_NOTE_LENGTHS = df_NOTE.copy()\n",
    "df_NOTE_LENGTHS['noteseq_len'] = lengths"
   ]
  },
  {
   "cell_type": "code",
   "execution_count": 37,
   "metadata": {},
   "outputs": [
    {
     "data": {
      "text/plain": [
       "ICUSTAY_ID      \n",
       "30676350.0  1362    45\n",
       "            1363    45\n",
       "            1364    45\n",
       "            1365    45\n",
       "            1366    45\n",
       "                    ..\n",
       "31090461.0  376     27\n",
       "            377     27\n",
       "            378     27\n",
       "            379     27\n",
       "            380     27\n",
       "Name: NOTE_ID, Length: 100, dtype: int64"
      ]
     },
     "execution_count": 37,
     "metadata": {},
     "output_type": "execute_result"
    }
   ],
   "source": [
    "lengths.head(100)"
   ]
  },
  {
   "cell_type": "code",
   "execution_count": 38,
   "metadata": {},
   "outputs": [],
   "source": [
    "n_notes_start_stay = df_NOTE_LENGTHS.groupby(level=0).noteseq_len.first()"
   ]
  },
  {
   "cell_type": "code",
   "execution_count": 39,
   "metadata": {},
   "outputs": [],
   "source": [
    "n_notes_end_stay = df_NOTE_LENGTHS.groupby(level=0).noteseq_len.last()"
   ]
  },
  {
   "cell_type": "code",
   "execution_count": 40,
   "metadata": {},
   "outputs": [],
   "source": [
    "new_notes_per_stay = n_notes_end_stay - n_notes_start_stay"
   ]
  },
  {
   "cell_type": "code",
   "execution_count": 41,
   "metadata": {},
   "outputs": [
    {
     "data": {
      "text/plain": [
       "Index(['SUBJECT_ID', 'ICUSTAY_ID', 't_start', 't_end', 'Capillary refill rate',\n",
       "       'Diastolic blood pressure', 'Fraction inspired oxygen',\n",
       "       'Glascow coma scale total', 'Glucose', 'Heart Rate',\n",
       "       ...\n",
       "       'O2 Consumption', 'Respiratory Quotient', '#past_IVs',\n",
       "       't_from_last_IV_t_start', 't_from_last_IV_t_end', 'delta', 'INTIME',\n",
       "       't_start_DT', 'NOTE_ID', 'noteseq_len'],\n",
       "      dtype='object', length=106)"
      ]
     },
     "execution_count": 41,
     "metadata": {},
     "output_type": "execute_result"
    }
   ],
   "source": [
    "df_NOTE_LENGTHS.columns"
   ]
  },
  {
   "cell_type": "code",
   "execution_count": 42,
   "metadata": {},
   "outputs": [],
   "source": [
    "df_NOTE_LENGTHS_out = df_NOTE_LENGTHS[['SUBJECT_ID', 'ICUSTAY_ID', 't_start', 't_end', 'delta', 'INTIME',\n",
    "       't_start_DT', 'NOTE_ID', 'noteseq_len']]"
   ]
  },
  {
   "cell_type": "code",
   "execution_count": 44,
   "metadata": {},
   "outputs": [],
   "source": [
    "# df_NOTE_LENGTHS_out.to_csv('../views/note_lengths.dis.view.csv')\n",
    "df_NOTE_LENGTHS_out.to_csv('../views/note_lengths.rad.view.csv')"
   ]
  },
  {
   "cell_type": "code",
   "execution_count": 46,
   "metadata": {},
   "outputs": [
    {
     "data": {
      "text/plain": [
       "Index(['SUBJECT_ID', 'ICUSTAY_ID', 't_start', 't_end', 'delta', 'INTIME',\n",
       "       't_start_DT', 'NOTE_ID', 'noteseq_len'],\n",
       "      dtype='object')"
      ]
     },
     "execution_count": 46,
     "metadata": {},
     "output_type": "execute_result"
    }
   ],
   "source": [
    "df_NOTE_LENGTHS_out.columns"
   ]
  },
  {
   "cell_type": "code",
   "execution_count": 56,
   "metadata": {},
   "outputs": [
    {
     "data": {
      "image/png": "[encoded data removed]",
      "text/plain": [
       "<Figure size 1600x600 with 1 Axes>"
      ]
     },
     "metadata": {},
     "output_type": "display_data"
    }
   ],
   "source": [
    "import pandas as pd\n",
    "import matplotlib.pyplot as plt\n",
    "\n",
    "data = {\n",
    "    'n_notes_start_stay': n_notes_start_stay,\n",
    "    'new_notes_per_stay': new_notes_per_stay\n",
    "}\n",
    "\n",
    "# Create a DataFrame from the data\n",
    "df = pd.DataFrame(data)\n",
    "\n",
    "# Plot a stacked bar graph\n",
    "ax = df.plot(kind='bar', stacked=True, figsize=(16, 6))\n",
    "\n",
    "# Customize the plot\n",
    "plt.title('Stacked Bar Graph of n_notes_start_stay and new_notes_per_stay')\n",
    "plt.xlabel('Icustay_id')  # Replace with your category labels\n",
    "plt.ylabel('n_notes')\n",
    "plt.legend()\n",
    "\n",
    "\n",
    "prop_new = (new_notes_per_stay / n_notes_end_stay).fillna(0).tolist()\n",
    "\n",
    "# Add prop_new as text labels above each bar\n",
    "for i, (n_notes_start, new_notes) in enumerate(zip(df['n_notes_start_stay'], df['new_notes_per_stay'])):\n",
    "    total_notes = n_notes_start + new_notes\n",
    "    x = i  # x-coordinate for the text label\n",
    "    y = total_notes + 0.5  # y-coordinate for the text label\n",
    "    plt.text(x, y, f'{100 * prop_new[i]:.2f}%', ha='center', va='bottom', rotation=0)\n",
    "\n",
    "# Show the plot\n",
    "plt.show()\n"
   ]
  },
  {
   "cell_type": "code",
   "execution_count": 95,
   "metadata": {},
   "outputs": [
    {
     "name": "stdout",
     "output_type": "stream",
     "text": [
      "time 39.874725103378296: populating time since note\n"
     ]
    },
    {
     "data": {
      "application/vnd.jupyter.widget-view+json": {
       "model_id": "67f7833c252c4d88a5ee1111c83ce640",
       "version_major": 2,
       "version_minor": 0
      },
      "text/plain": [
       "  0%|          | 0/2000 [00:00<?, ?it/s]"
      ]
     },
     "metadata": {},
     "output_type": "display_data"
    }
   ],
   "source": [
    "print(f\"time {time() - tstart}: populating time since note\")\n",
    "df_NOTE = df_NOTE.progress_apply(_populate_time_since_note, axis=1)\n",
    "\n",
    "# print(f\"time {time() - tstart}: merging text on NOTE_ID\")\n",
    "# df_NOTE = df_NOTE.merge(notes_to_use[['NOTE_ID', 'text']], how = 'left', on = 'NOTE_ID')\n",
    "\n",
    "df_NOTES.append(df_NOTE)\n",
    "\n",
    "mimic_iv_train_NOTE_OLD = df_NOTES[0]\n",
    "\n",
    "# mimic_iv_train_NOTE.to_csv(out_trainpath, index=False)\n",
    "# mimic_iv_test_NOTE.to_csv(out_testpath, index=False)\n",
    "\n",
    "# print(f\"wrote to {out_trainpath}\")\n",
    "# print(f\"wrote to {out_testpath}\")\n",
    "\n",
    "# print(f\"{out_trainpath} has {len(mimic_iv_train_NOTE_OLD['NOTE_ID'].unique())} unique NOTE_IDs\")"
   ]
  },
  {
   "cell_type": "code",
   "execution_count": 91,
   "metadata": {},
   "outputs": [
    {
     "name": "stdout",
     "output_type": "stream",
     "text": [
      "time 0.0030701160430908203: merging INTIME on ICUSTAY_ID\n",
      "time 0.03674793243408203: inserting note data by stay\n"
     ]
    },
    {
     "data": {
      "application/vnd.jupyter.widget-view+json": {
       "model_id": "91b3d6fadcf8428c83e7ec107ac9ca0f",
       "version_major": 2,
       "version_minor": 0
      },
      "text/plain": [
       "  0%|          | 0/16 [00:00<?, ?it/s]"
      ]
     },
     "metadata": {},
     "output_type": "display_data"
    },
    {
     "name": "stdout",
     "output_type": "stream",
     "text": [
      "time 4.711388111114502: populating time since note\n"
     ]
    },
    {
     "data": {
      "application/vnd.jupyter.widget-view+json": {
       "model_id": "bc7f23f7122f4564a5ff9080b4d2f9fa",
       "version_major": 2,
       "version_minor": 0
      },
      "text/plain": [
       "  0%|          | 0/2000 [00:00<?, ?it/s]"
      ]
     },
     "metadata": {},
     "output_type": "display_data"
    },
    {
     "name": "stdout",
     "output_type": "stream",
     "text": [
      "/home/ugrads/a/aa_ron_su/BoXHED_Fuse/JSS_SUBMISSION_NEW/data/till_end_mimic_iv_extra_features_train_NOTE_rad.csv has 26 unique NOTE_IDs\n"
     ]
    }
   ],
   "source": [
    "'''\n",
    "insert note data by stay, but with ALL notes\n",
    "'''\n",
    "df_NOTES = []\n",
    "\n",
    "tstart = time()\n",
    "\n",
    "df = mimic_iv_train\n",
    "\n",
    "# relevant_subjects = set(df[\"SUBJECT_ID\"])\n",
    "# print(f\"time {time() - tstart}: generating stay_note_timing_table\")\n",
    "# stay_note_timing = generate_stay_and_note_timing_table(relevant_subjects, all_stays, notes_to_use)\n",
    "\n",
    "# df_tmp is populated with useful columns for our note merge.\n",
    "df_tmp = df.copy()\n",
    "df_tmp.rename(columns={'Icustay': 'ICUSTAY_ID'}, inplace = True) \n",
    "print(f\"time {time() - tstart}: merging INTIME on ICUSTAY_ID\")\n",
    "df_tmp = df_tmp.merge(all_stays[['ICUSTAY_ID', 'INTIME']], how = 'left', on ='ICUSTAY_ID') # merge with all_stays['intime'] on Icustay\n",
    "\n",
    "df_tmp['INTIME'] = pd.to_datetime(df_tmp['INTIME'])\n",
    "df_tmp['t_start_DT'] = df_tmp['INTIME'] + pd.to_timedelta(df_tmp['t_start'], unit='h')\n",
    "\n",
    "print(f\"time {time() - tstart}: inserting note data by stay\")\n",
    "df_NOTE = df_tmp.groupby('ICUSTAY_ID', group_keys=True).progress_apply(_insert_note_data_by_stay)\n",
    "\n",
    "print(f\"time {time() - tstart}: populating time since note\")\n",
    "df_NOTE = df_NOTE.progress_apply(_populate_time_since_note, axis=1)\n",
    "\n",
    "# print(f\"time {time() - tstart}: merging text on NOTE_ID\")\n",
    "# df_NOTE = df_NOTE.merge(notes_to_use[['NOTE_ID', 'text']], how = 'left', on = 'NOTE_ID')\n",
    "\n",
    "df_NOTES.append(df_NOTE)\n",
    "\n",
    "mimic_iv_train_NOTE_OLD = df_NOTES[0]\n",
    "\n",
    "# mimic_iv_train_NOTE.to_csv(out_trainpath, index=False)\n",
    "# mimic_iv_test_NOTE.to_csv(out_testpath, index=False)\n",
    "\n",
    "# print(f\"wrote to {out_trainpath}\")\n",
    "# print(f\"wrote to {out_testpath}\")\n",
    "\n",
    "print(f\"{out_trainpath} has {len(mimic_iv_train_NOTE_OLD['NOTE_ID'].unique())} unique NOTE_IDs\")\n"
   ]
  },
  {
   "cell_type": "code",
   "execution_count": null,
   "metadata": {},
   "outputs": [],
   "source": []
  },
  {
   "cell_type": "code",
   "execution_count": null,
   "metadata": {},
   "outputs": [],
   "source": [
    "mimic_iv_train.ICUSTAY_ID.nunique()"
   ]
  },
  {
   "cell_type": "code",
   "execution_count": null,
   "metadata": {},
   "outputs": [],
   "source": [
    "pd.set_option('display.max_rows', 100)\n",
    "pd.set_option('display.max_rows', 100)\n"
   ]
  }
 ],
 "metadata": {
  "kernelspec": {
   "display_name": "clinical1",
   "language": "python",
   "name": "python3"
  },
  "language_info": {
   "codemirror_mode": {
    "name": "ipython",
    "version": 3
   },
   "file_extension": ".py",
   "mimetype": "text/x-python",
   "name": "python",
   "nbconvert_exporter": "python",
   "pygments_lexer": "ipython3",
   "version": "3.10.11"
  },
  "orig_nbformat": 4
 },
 "nbformat": 4,
 "nbformat_minor": 2
}
