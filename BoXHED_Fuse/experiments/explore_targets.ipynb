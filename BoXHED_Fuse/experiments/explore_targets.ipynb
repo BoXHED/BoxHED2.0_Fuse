{
 "cells": [
  {
   "cell_type": "code",
   "execution_count": 1,
   "metadata": {},
   "outputs": [],
   "source": [
    "import pandas as pd"
   ]
  },
  {
   "cell_type": "code",
   "execution_count": 22,
   "metadata": {},
   "outputs": [],
   "source": [
    "target = 1\n",
    "outpath_ft_train = f'/home/ugrads/a/aa_ron_su/JSS_SUBMISSION/data/till_end_mimic_iv_extra_features_train_NOTE_TARGET{target}_FT_rad.csv'\n",
    "outpath_ft_test = f'/home/ugrads/a/aa_ron_su/JSS_SUBMISSION/data/till_end_mimic_iv_extra_features_test_NOTE_TARGET{target}_FT_rad.csv'\n",
    "temivef_train_NOTE_FT = pd.read_csv(outpath_ft_train)\n",
    "temivef_test_NOTE_FT = pd.read_csv(outpath_ft_test)"
   ]
  },
  {
   "cell_type": "code",
   "execution_count": 23,
   "metadata": {},
   "outputs": [],
   "source": [
    "target = 3\n",
    "outpath_ft_train3 = f'/home/ugrads/a/aa_ron_su/JSS_SUBMISSION/data/till_end_mimic_iv_extra_features_train_NOTE_TARGET{target}_FT_rad.csv'\n",
    "outpath_ft_test3 = f'/home/ugrads/a/aa_ron_su/JSS_SUBMISSION/data/till_end_mimic_iv_extra_features_test_NOTE_TARGET{target}_FT_rad.csv'\n",
    "temivef_train_NOTE_FT3 = pd.read_csv(outpath_ft_train3)\n",
    "temivef_test_NOTE_FT3 = pd.read_csv(outpath_ft_test3)"
   ]
  },
  {
   "cell_type": "code",
   "execution_count": 27,
   "metadata": {},
   "outputs": [],
   "source": [
    "target = 5\n",
    "outpath_ft_train5 = f'/home/ugrads/a/aa_ron_su/JSS_SUBMISSION/data/till_end_mimic_iv_extra_features_train_NOTE_TARGET{target}_FT_rad.csv'\n",
    "outpath_ft_test5 = f'/home/ugrads/a/aa_ron_su/JSS_SUBMISSION/data/till_end_mimic_iv_extra_features_test_NOTE_TARGET{target}_FT_rad.csv'\n",
    "temivef_train_NOTE_FT5 = pd.read_csv(outpath_ft_train5)\n",
    "temivef_test_NOTE_FT5 = pd.read_csv(outpath_ft_test5)"
   ]
  },
  {
   "cell_type": "code",
   "execution_count": 31,
   "metadata": {},
   "outputs": [
    {
     "data": {
      "text/plain": [
       "9827"
      ]
     },
     "execution_count": 31,
     "metadata": {},
     "output_type": "execute_result"
    }
   ],
   "source": [
    "num_stays_w_target = (\n",
    "    temivef_train_NOTE_FT[temivef_train_NOTE_FT['delta_in_2_days'] != 0]['ICUSTAY_ID'].nunique(),\n",
    "    temivef_test_NOTE_FT[temivef_test_NOTE_FT['delta_in_2_days'] != 0]['ICUSTAY_ID'].nunique(),\n",
    "    )\n",
    "num_stays_w_target\n",
    "sum(num_stays_w_target)"
   ]
  },
  {
   "cell_type": "code",
   "execution_count": 30,
   "metadata": {},
   "outputs": [
    {
     "data": {
      "text/plain": [
       "9876"
      ]
     },
     "execution_count": 30,
     "metadata": {},
     "output_type": "execute_result"
    }
   ],
   "source": [
    "num_stays_w_target3 = (\n",
    "    temivef_train_NOTE_FT3[temivef_train_NOTE_FT3['delta_in_3_days'] != 0]['ICUSTAY_ID'].nunique(),\n",
    "    temivef_test_NOTE_FT3[temivef_test_NOTE_FT3['delta_in_3_days'] != 0]['ICUSTAY_ID'].nunique(),\n",
    "    )\n",
    "num_stays_w_target3\n",
    "sum(num_stays_w_target3)"
   ]
  },
  {
   "cell_type": "code",
   "execution_count": 29,
   "metadata": {},
   "outputs": [
    {
     "data": {
      "text/plain": [
       "9901"
      ]
     },
     "execution_count": 29,
     "metadata": {},
     "output_type": "execute_result"
    }
   ],
   "source": [
    "num_stays_w_target5 = (\n",
    "    temivef_train_NOTE_FT5[temivef_train_NOTE_FT5['delta_in_5_days'] != 0]['ICUSTAY_ID'].nunique(),\n",
    "    temivef_test_NOTE_FT5[temivef_test_NOTE_FT5['delta_in_5_days'] != 0]['ICUSTAY_ID'].nunique(),\n",
    "    )\n",
    "num_stays_w_target5\n",
    "sum(num_stays_w_target5)"
   ]
  },
  {
   "cell_type": "code",
   "execution_count": 18,
   "metadata": {},
   "outputs": [
    {
     "data": {
      "text/plain": [
       "8348"
      ]
     },
     "execution_count": 18,
     "metadata": {},
     "output_type": "execute_result"
    }
   ],
   "source": []
  },
  {
   "cell_type": "code",
   "execution_count": 13,
   "metadata": {},
   "outputs": [],
   "source": [
    "subjs = get_icustay_with_target(temivef_train_NOTE_FT)"
   ]
  },
  {
   "cell_type": "code",
   "execution_count": 14,
   "metadata": {},
   "outputs": [
    {
     "data": {
      "text/html": [
       "<div>\n",
       "<style scoped>\n",
       "    .dataframe tbody tr th:only-of-type {\n",
       "        vertical-align: middle;\n",
       "    }\n",
       "\n",
       "    .dataframe tbody tr th {\n",
       "        vertical-align: top;\n",
       "    }\n",
       "\n",
       "    .dataframe thead th {\n",
       "        text-align: right;\n",
       "    }\n",
       "</style>\n",
       "<table border=\"1\" class=\"dataframe\">\n",
       "  <thead>\n",
       "    <tr style=\"text-align: right;\">\n",
       "      <th></th>\n",
       "      <th>text</th>\n",
       "      <th>delta_in_2_days</th>\n",
       "      <th>NOTE_ID</th>\n",
       "    </tr>\n",
       "  </thead>\n",
       "  <tbody>\n",
       "    <tr>\n",
       "      <th>0</th>\n",
       "      <td>1</td>\n",
       "      <td>1</td>\n",
       "      <td>1</td>\n",
       "    </tr>\n",
       "    <tr>\n",
       "      <th>1</th>\n",
       "      <td>1</td>\n",
       "      <td>1</td>\n",
       "      <td>1</td>\n",
       "    </tr>\n",
       "    <tr>\n",
       "      <th>2</th>\n",
       "      <td>4</td>\n",
       "      <td>4</td>\n",
       "      <td>4</td>\n",
       "    </tr>\n",
       "    <tr>\n",
       "      <th>3</th>\n",
       "      <td>4</td>\n",
       "      <td>4</td>\n",
       "      <td>4</td>\n",
       "    </tr>\n",
       "    <tr>\n",
       "      <th>4</th>\n",
       "      <td>4</td>\n",
       "      <td>4</td>\n",
       "      <td>4</td>\n",
       "    </tr>\n",
       "    <tr>\n",
       "      <th>...</th>\n",
       "      <td>...</td>\n",
       "      <td>...</td>\n",
       "      <td>...</td>\n",
       "    </tr>\n",
       "    <tr>\n",
       "      <th>76143</th>\n",
       "      <td>1</td>\n",
       "      <td>1</td>\n",
       "      <td>1</td>\n",
       "    </tr>\n",
       "    <tr>\n",
       "      <th>76144</th>\n",
       "      <td>1</td>\n",
       "      <td>1</td>\n",
       "      <td>1</td>\n",
       "    </tr>\n",
       "    <tr>\n",
       "      <th>76145</th>\n",
       "      <td>3</td>\n",
       "      <td>3</td>\n",
       "      <td>3</td>\n",
       "    </tr>\n",
       "    <tr>\n",
       "      <th>76146</th>\n",
       "      <td>3</td>\n",
       "      <td>3</td>\n",
       "      <td>3</td>\n",
       "    </tr>\n",
       "    <tr>\n",
       "      <th>76147</th>\n",
       "      <td>3</td>\n",
       "      <td>3</td>\n",
       "      <td>3</td>\n",
       "    </tr>\n",
       "  </tbody>\n",
       "</table>\n",
       "<p>76148 rows × 3 columns</p>\n",
       "</div>"
      ],
      "text/plain": [
       "       text  delta_in_2_days  NOTE_ID\n",
       "0         1                1        1\n",
       "1         1                1        1\n",
       "2         4                4        4\n",
       "3         4                4        4\n",
       "4         4                4        4\n",
       "...     ...              ...      ...\n",
       "76143     1                1        1\n",
       "76144     1                1        1\n",
       "76145     3                3        3\n",
       "76146     3                3        3\n",
       "76147     3                3        3\n",
       "\n",
       "[76148 rows x 3 columns]"
      ]
     },
     "execution_count": 14,
     "metadata": {},
     "output_type": "execute_result"
    }
   ],
   "source": [
    "subjs"
   ]
  }
 ],
 "metadata": {
  "kernelspec": {
   "display_name": "clinical1",
   "language": "python",
   "name": "python3"
  },
  "language_info": {
   "codemirror_mode": {
    "name": "ipython",
    "version": 3
   },
   "file_extension": ".py",
   "mimetype": "text/x-python",
   "name": "python",
   "nbconvert_exporter": "python",
   "pygments_lexer": "ipython3",
   "version": "3.10.11"
  },
  "orig_nbformat": 4
 },
 "nbformat": 4,
 "nbformat_minor": 2
}
