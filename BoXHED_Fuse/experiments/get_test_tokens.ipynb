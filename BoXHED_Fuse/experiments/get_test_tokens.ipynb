{
 "cells": [
  {
   "cell_type": "code",
   "execution_count": 8,
   "metadata": {},
   "outputs": [],
   "source": [
    "from datasets import Dataset\n",
    "tokens = Dataset.load_from_disk('/home/ugrads/a/aa_ron_su/BoXHED_Fuse/model_outputs/Clinical-T5-Base_rad_all_out/6/data_cache/tokenized_train_data')\n",
    "tokens_testing = Dataset.load_from_disk('/home/ugrads/a/aa_ron_su/BoXHED_Fuse/model_outputs/testing/Clinical-T5-Base_rad_all_out/3/data_cache/tokenized_train_data')\n"
   ]
  },
  {
   "cell_type": "code",
   "execution_count": 19,
   "metadata": {},
   "outputs": [],
   "source": [
    "lengths = [100, 300, 1000, 3000]\n",
    "tokens_list = [Dataset.from_dict(tokens[:l]) for l in lengths]"
   ]
  },
  {
   "cell_type": "code",
   "execution_count": 23,
   "metadata": {},
   "outputs": [
    {
     "data": {
      "application/vnd.jupyter.widget-view+json": {
       "model_id": "bfde80314dc346129ae75b891f22f37e",
       "version_major": 2,
       "version_minor": 0
      },
      "text/plain": [
       "Saving the dataset (0/1 shards):   0%|          | 0/100 [00:00<?, ? examples/s]"
      ]
     },
     "metadata": {},
     "output_type": "display_data"
    },
    {
     "data": {
      "application/vnd.jupyter.widget-view+json": {
       "model_id": "bfbbc22c89b440e9969ee12e0cc02347",
       "version_major": 2,
       "version_minor": 0
      },
      "text/plain": [
       "Saving the dataset (0/1 shards):   0%|          | 0/300 [00:00<?, ? examples/s]"
      ]
     },
     "metadata": {},
     "output_type": "display_data"
    },
    {
     "data": {
      "application/vnd.jupyter.widget-view+json": {
       "model_id": "8f77cd77c8d3492fae1aa55d17736b99",
       "version_major": 2,
       "version_minor": 0
      },
      "text/plain": [
       "Saving the dataset (0/1 shards):   0%|          | 0/1000 [00:00<?, ? examples/s]"
      ]
     },
     "metadata": {},
     "output_type": "display_data"
    },
    {
     "data": {
      "application/vnd.jupyter.widget-view+json": {
       "model_id": "d5a34b19ac5d418189e47bdfcfaee23c",
       "version_major": 2,
       "version_minor": 0
      },
      "text/plain": [
       "Saving the dataset (0/1 shards):   0%|          | 0/3000 [00:00<?, ? examples/s]"
      ]
     },
     "metadata": {},
     "output_type": "display_data"
    }
   ],
   "source": [
    "import os\n",
    "scale_test_dir = '/home/ugrads/a/aa_ron_su/BoXHED_Fuse/model_outputs/testing/Clinical-T5-Base_rad_all_out/scale_test'\n",
    "for length, tok in zip(lengths, tokens_list):\n",
    "    tok.save_to_disk(os.path.join(scale_test_dir, str(length)))"
   ]
  }
 ],
 "metadata": {
  "kernelspec": {
   "display_name": "clinical1",
   "language": "python",
   "name": "python3"
  },
  "language_info": {
   "codemirror_mode": {
    "name": "ipython",
    "version": 3
   },
   "file_extension": ".py",
   "mimetype": "text/x-python",
   "name": "python",
   "nbconvert_exporter": "python",
   "pygments_lexer": "ipython3",
   "version": "3.10.11"
  }
 },
 "nbformat": 4,
 "nbformat_minor": 2
}
