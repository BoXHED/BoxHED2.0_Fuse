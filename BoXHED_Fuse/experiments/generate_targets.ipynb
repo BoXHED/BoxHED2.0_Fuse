{
 "cells": [
  {
   "cell_type": "code",
   "execution_count": 1,
   "metadata": {},
   "outputs": [],
   "source": [
    "import pandas as pd\n",
    "train = pd.read_csv('/home/ugrads/a/aa_ron_su/data/till_end_mimic_iv_extra_features_train_NOTE.csv')\n",
    "test = pd.read_csv('/home/ugrads/a/aa_ron_su/data/till_end_mimic_iv_extra_features_test_NOTE.csv')"
   ]
  },
  {
   "cell_type": "code",
   "execution_count": 2,
   "metadata": {},
   "outputs": [],
   "source": [
    "outpath_train = '/home/ugrads/a/aa_ron_su/data/till_end_mimic_iv_extra_features_train_NOTE_TARGET1.csv'\n",
    "outpath_test = '/home/ugrads/a/aa_ron_su/data/till_end_mimic_iv_extra_features_test_NOTE_TARGET1.csv'\n",
    "outpath_ft_train = '/home/ugrads/a/aa_ron_su/data/till_end_mimic_iv_extra_features_train_NOTE_TARGET1_FT.csv'\n",
    "outpath_ft_test = '/home/ugrads/a/aa_ron_su/data/till_end_mimic_iv_extra_features_test_NOTE_TARGET1_FT.csv'"
   ]
  },
  {
   "cell_type": "code",
   "execution_count": 3,
   "metadata": {},
   "outputs": [],
   "source": [
    "for df in [train, test]:\n",
    "    df['t_start_DT'] = pd.to_datetime(df['t_start_DT']) "
   ]
  },
  {
   "cell_type": "code",
   "execution_count": 4,
   "metadata": {},
   "outputs": [],
   "source": [
    "from datetime import timedelta\n",
    "def _generate_target(subject_df):\n",
    "    delta_times = subject_df[subject_df['delta'] == 1]['t_start_DT']\n",
    "    # subject_df['num_deltas_per_subj'] = len(delta_times)\n",
    "\n",
    "    if (delta_times.empty):\n",
    "        return subject_df\n",
    "\n",
    "    masks = []\n",
    "    for delta_time in delta_times:\n",
    "        mask1 = (subject_df['t_start_DT'] <= delta_time) \n",
    "        mask2 = (subject_df['t_start_DT'] >= (delta_time - timedelta(days = 2)))\n",
    "        mask = mask1 & mask2\n",
    "        masks.append(mask)\n",
    "    \n",
    "    mask_acc = masks[0]\n",
    "    for m in masks[1:]:\n",
    "        mask_acc = mask_acc | m\n",
    "    \n",
    "    subject_df.loc[mask_acc, 'delta_in_2_days'] = 1\n",
    "\n",
    "    return subject_df"
   ]
  },
  {
   "cell_type": "code",
   "execution_count": 5,
   "metadata": {},
   "outputs": [
    {
     "name": "stderr",
     "output_type": "stream",
     "text": [
      "/home/ugrads/a/aa_ron_su/miniconda3/envs/clinical_t5/lib/python3.8/site-packages/tqdm/auto.py:22: TqdmWarning: IProgress not found. Please update jupyter and ipywidgets. See https://ipywidgets.readthedocs.io/en/stable/user_install.html\n",
      "  from .autonotebook import tqdm as notebook_tqdm\n",
      "100%|█████████▉| 24716/24764 [00:43<00:00, 434.20it/s]/home/ugrads/a/aa_ron_su/miniconda3/envs/clinical_t5/lib/python3.8/site-packages/tqdm/std.py:814: FutureWarning: Not prepending group keys to the result index of transform-like apply. In the future, the group keys will be included in the index, regardless of whether the applied function returns a like-indexed object.\n",
      "To preserve the previous behavior, use\n",
      "\n",
      "\t>>> .groupby(..., group_keys=False)\n",
      "\n",
      "To adopt the future behavior and silence this warning, use \n",
      "\n",
      "\t>>> .groupby(..., group_keys=True)\n",
      "  return getattr(df, df_function)(wrapper, **kwargs)\n",
      "100%|██████████| 24764/24764 [01:10<00:00, 350.54it/s]\n",
      " 98%|█████████▊| 4262/4344 [00:07<00:00, 571.71it/s]/home/ugrads/a/aa_ron_su/miniconda3/envs/clinical_t5/lib/python3.8/site-packages/tqdm/std.py:814: FutureWarning: Not prepending group keys to the result index of transform-like apply. In the future, the group keys will be included in the index, regardless of whether the applied function returns a like-indexed object.\n",
      "To preserve the previous behavior, use\n",
      "\n",
      "\t>>> .groupby(..., group_keys=False)\n",
      "\n",
      "To adopt the future behavior and silence this warning, use \n",
      "\n",
      "\t>>> .groupby(..., group_keys=True)\n",
      "  return getattr(df, df_function)(wrapper, **kwargs)\n",
      "100%|██████████| 4344/4344 [00:12<00:00, 356.53it/s]\n"
     ]
    }
   ],
   "source": [
    "from tqdm.auto import tqdm\n",
    "tqdm.pandas()\n",
    "\n",
    "\n",
    "train['delta_in_2_days'] = 0\n",
    "train = train.groupby('SUBJECT_ID').progress_apply(_generate_target)\n",
    "\n",
    "test['delta_in_2_days'] = 0\n",
    "test = test.groupby('SUBJECT_ID').progress_apply(_generate_target)"
   ]
  },
  {
   "cell_type": "code",
   "execution_count": 6,
   "metadata": {},
   "outputs": [],
   "source": [
    "train_note_target = train[['ICUSTAY_ID','text','delta_in_2_days','NOTE_ID']].copy()\n",
    "train_note_target.dropna(inplace=True)\n",
    "train_note_target = train_note_target.drop_duplicates(subset='text')\n",
    "\n",
    "test_note_target = test[['ICUSTAY_ID','text','delta_in_2_days','NOTE_ID']].copy()\n",
    "test_note_target.dropna(inplace=True)\n",
    "test_note_target = test_note_target.drop_duplicates(subset='text')"
   ]
  },
  {
   "cell_type": "code",
   "execution_count": 8,
   "metadata": {},
   "outputs": [],
   "source": [
    "# train.to_csv(outpath_train, index=False)\n",
    "# test.to_csv(outpath_test, index=False)\n",
    "\n",
    "train_note_target.to_csv(outpath_ft_train, index=False)\n",
    "test_note_target.to_csv(outpath_ft_test, index=False)"
   ]
  },
  {
   "cell_type": "code",
   "execution_count": 66,
   "metadata": {},
   "outputs": [
    {
     "data": {
      "text/html": [
       "<div>\n",
       "<style scoped>\n",
       "    .dataframe tbody tr th:only-of-type {\n",
       "        vertical-align: middle;\n",
       "    }\n",
       "\n",
       "    .dataframe tbody tr th {\n",
       "        vertical-align: top;\n",
       "    }\n",
       "\n",
       "    .dataframe thead th {\n",
       "        text-align: right;\n",
       "    }\n",
       "</style>\n",
       "<table border=\"1\" class=\"dataframe\">\n",
       "  <thead>\n",
       "    <tr style=\"text-align: right;\">\n",
       "      <th></th>\n",
       "      <th>text</th>\n",
       "      <th>delta_in_2_days</th>\n",
       "    </tr>\n",
       "  </thead>\n",
       "  <tbody>\n",
       "    <tr>\n",
       "      <th>190</th>\n",
       "      <td>\\nName:  ___                  Unit No:   ___\\...</td>\n",
       "      <td>1</td>\n",
       "    </tr>\n",
       "    <tr>\n",
       "      <th>1104</th>\n",
       "      <td>\\nName:  ___                   Unit No:   ___...</td>\n",
       "      <td>0</td>\n",
       "    </tr>\n",
       "    <tr>\n",
       "      <th>1394</th>\n",
       "      <td>\\nName:  ___                 Unit No:   ___\\n...</td>\n",
       "      <td>1</td>\n",
       "    </tr>\n",
       "    <tr>\n",
       "      <th>1553</th>\n",
       "      <td>\\nName:  ___                 Unit No:   ___\\n...</td>\n",
       "      <td>1</td>\n",
       "    </tr>\n",
       "    <tr>\n",
       "      <th>2416</th>\n",
       "      <td>\\nName:  ___                    Unit No:   __...</td>\n",
       "      <td>0</td>\n",
       "    </tr>\n",
       "    <tr>\n",
       "      <th>...</th>\n",
       "      <td>...</td>\n",
       "      <td>...</td>\n",
       "    </tr>\n",
       "    <tr>\n",
       "      <th>1017356</th>\n",
       "      <td>\\nName:  ___                    Unit No:   __...</td>\n",
       "      <td>0</td>\n",
       "    </tr>\n",
       "    <tr>\n",
       "      <th>1017410</th>\n",
       "      <td>\\nName:  ___                 Unit No:   ___\\n...</td>\n",
       "      <td>0</td>\n",
       "    </tr>\n",
       "    <tr>\n",
       "      <th>1017607</th>\n",
       "      <td>\\nName:  ___                  Unit No:   ___\\...</td>\n",
       "      <td>1</td>\n",
       "    </tr>\n",
       "    <tr>\n",
       "      <th>1018392</th>\n",
       "      <td>\\nName:  ___                   Unit No:   ___...</td>\n",
       "      <td>0</td>\n",
       "    </tr>\n",
       "    <tr>\n",
       "      <th>1018828</th>\n",
       "      <td>\\nName:  ___                     Unit No:   _...</td>\n",
       "      <td>0</td>\n",
       "    </tr>\n",
       "  </tbody>\n",
       "</table>\n",
       "<p>2582 rows × 2 columns</p>\n",
       "</div>"
      ],
      "text/plain": [
       "                                                      text  delta_in_2_days\n",
       "190       \\nName:  ___                  Unit No:   ___\\...                1\n",
       "1104      \\nName:  ___                   Unit No:   ___...                0\n",
       "1394      \\nName:  ___                 Unit No:   ___\\n...                1\n",
       "1553      \\nName:  ___                 Unit No:   ___\\n...                1\n",
       "2416      \\nName:  ___                    Unit No:   __...                0\n",
       "...                                                    ...              ...\n",
       "1017356   \\nName:  ___                    Unit No:   __...                0\n",
       "1017410   \\nName:  ___                 Unit No:   ___\\n...                0\n",
       "1017607   \\nName:  ___                  Unit No:   ___\\...                1\n",
       "1018392   \\nName:  ___                   Unit No:   ___...                0\n",
       "1018828   \\nName:  ___                     Unit No:   _...                0\n",
       "\n",
       "[2582 rows x 2 columns]"
      ]
     },
     "execution_count": 66,
     "metadata": {},
     "output_type": "execute_result"
    }
   ],
   "source": [
    "test_note_target"
   ]
  },
  {
   "cell_type": "code",
   "execution_count": 52,
   "metadata": {},
   "outputs": [],
   "source": [
    "def check_monotonic_increasing(icustay_df):\n",
    "    if not icustay_df.t_start_DT.is_monotonic_increasing:\n",
    "        print(f'NOTE_ID {icustay_df.NOTE_ID.iloc[0]} not increasing')"
   ]
  },
  {
   "cell_type": "code",
   "execution_count": 6,
   "metadata": {},
   "outputs": [],
   "source": [
    "import pandas as pd\n",
    "ft_train = pd.read_csv(outpath_ft_train)"
   ]
  },
  {
   "cell_type": "code",
   "execution_count": 10,
   "metadata": {},
   "outputs": [
    {
     "data": {
      "text/html": [
       "<div>\n",
       "<style scoped>\n",
       "    .dataframe tbody tr th:only-of-type {\n",
       "        vertical-align: middle;\n",
       "    }\n",
       "\n",
       "    .dataframe tbody tr th {\n",
       "        vertical-align: top;\n",
       "    }\n",
       "\n",
       "    .dataframe thead th {\n",
       "        text-align: right;\n",
       "    }\n",
       "</style>\n",
       "<table border=\"1\" class=\"dataframe\">\n",
       "  <thead>\n",
       "    <tr style=\"text-align: right;\">\n",
       "      <th></th>\n",
       "      <th>ICUSTAY_ID</th>\n",
       "      <th>text</th>\n",
       "      <th>delta_in_2_days</th>\n",
       "    </tr>\n",
       "  </thead>\n",
       "  <tbody>\n",
       "    <tr>\n",
       "      <th>0</th>\n",
       "      <td>30000484.0</td>\n",
       "      <td>\\nName:  ___               Unit No:   ___\\n \\...</td>\n",
       "      <td>0</td>\n",
       "    </tr>\n",
       "    <tr>\n",
       "      <th>1</th>\n",
       "      <td>30001947.0</td>\n",
       "      <td>\\nName:  ___                 Unit No:   ___\\n...</td>\n",
       "      <td>1</td>\n",
       "    </tr>\n",
       "    <tr>\n",
       "      <th>2</th>\n",
       "      <td>30002521.0</td>\n",
       "      <td>\\nName:  ___                   Unit No:   ___...</td>\n",
       "      <td>0</td>\n",
       "    </tr>\n",
       "    <tr>\n",
       "      <th>3</th>\n",
       "      <td>30003202.0</td>\n",
       "      <td>\\nName:  ___.              Unit No:   ___\\n \\...</td>\n",
       "      <td>0</td>\n",
       "    </tr>\n",
       "    <tr>\n",
       "      <th>4</th>\n",
       "      <td>30003226.0</td>\n",
       "      <td>\\nName:  ___                    Unit No:   __...</td>\n",
       "      <td>0</td>\n",
       "    </tr>\n",
       "    <tr>\n",
       "      <th>...</th>\n",
       "      <td>...</td>\n",
       "      <td>...</td>\n",
       "      <td>...</td>\n",
       "    </tr>\n",
       "    <tr>\n",
       "      <th>14568</th>\n",
       "      <td>39996870.0</td>\n",
       "      <td>\\nName:  ___                  Unit No:   ___\\...</td>\n",
       "      <td>0</td>\n",
       "    </tr>\n",
       "    <tr>\n",
       "      <th>14569</th>\n",
       "      <td>39998012.0</td>\n",
       "      <td>\\nName:  ___             Unit No:   ___\\n \\nA...</td>\n",
       "      <td>0</td>\n",
       "    </tr>\n",
       "    <tr>\n",
       "      <th>14570</th>\n",
       "      <td>39999230.0</td>\n",
       "      <td>\\nName:  ___                    Unit No:   __...</td>\n",
       "      <td>0</td>\n",
       "    </tr>\n",
       "    <tr>\n",
       "      <th>14571</th>\n",
       "      <td>39999301.0</td>\n",
       "      <td>\\nName:  ___                 Unit No:   ___\\n...</td>\n",
       "      <td>1</td>\n",
       "    </tr>\n",
       "    <tr>\n",
       "      <th>14572</th>\n",
       "      <td>39999301.0</td>\n",
       "      <td>\\nName:  ___                 Unit No:   ___\\n...</td>\n",
       "      <td>1</td>\n",
       "    </tr>\n",
       "  </tbody>\n",
       "</table>\n",
       "<p>14573 rows × 3 columns</p>\n",
       "</div>"
      ],
      "text/plain": [
       "       ICUSTAY_ID                                               text  \\\n",
       "0      30000484.0   \\nName:  ___               Unit No:   ___\\n \\...   \n",
       "1      30001947.0   \\nName:  ___                 Unit No:   ___\\n...   \n",
       "2      30002521.0   \\nName:  ___                   Unit No:   ___...   \n",
       "3      30003202.0   \\nName:  ___.              Unit No:   ___\\n \\...   \n",
       "4      30003226.0   \\nName:  ___                    Unit No:   __...   \n",
       "...           ...                                                ...   \n",
       "14568  39996870.0   \\nName:  ___                  Unit No:   ___\\...   \n",
       "14569  39998012.0   \\nName:  ___             Unit No:   ___\\n \\nA...   \n",
       "14570  39999230.0   \\nName:  ___                    Unit No:   __...   \n",
       "14571  39999301.0   \\nName:  ___                 Unit No:   ___\\n...   \n",
       "14572  39999301.0   \\nName:  ___                 Unit No:   ___\\n...   \n",
       "\n",
       "       delta_in_2_days  \n",
       "0                    0  \n",
       "1                    1  \n",
       "2                    0  \n",
       "3                    0  \n",
       "4                    0  \n",
       "...                ...  \n",
       "14568                0  \n",
       "14569                0  \n",
       "14570                0  \n",
       "14571                1  \n",
       "14572                1  \n",
       "\n",
       "[14573 rows x 3 columns]"
      ]
     },
     "execution_count": 10,
     "metadata": {},
     "output_type": "execute_result"
    }
   ],
   "source": [
    "ft_train"
   ]
  },
  {
   "cell_type": "code",
   "execution_count": null,
   "metadata": {},
   "outputs": [],
   "source": [
    "# from tqdm.auto import tqdm\n",
    "# tqdm.pandas()\n",
    "\n",
    "# df_NOTE['delta_in_2_days'] = 0\n",
    "# df_NOTE = df_NOTE.groupby('SUBJECT_ID').progress_apply(_generate_target)"
   ]
  },
  {
   "cell_type": "code",
   "execution_count": 77,
   "metadata": {},
   "outputs": [
    {
     "data": {
      "text/plain": [
       "(28724, 1293497)"
      ]
     },
     "execution_count": 77,
     "metadata": {},
     "output_type": "execute_result"
    }
   ],
   "source": [
    "# (len(df_NOTE), len(df_NOTE_NEW))"
   ]
  },
  {
   "cell_type": "code",
   "execution_count": null,
   "metadata": {},
   "outputs": [],
   "source": [
    "train"
   ]
  },
  {
   "cell_type": "code",
   "execution_count": 30,
   "metadata": {},
   "outputs": [
    {
     "name": "stdout",
     "output_type": "stream",
     "text": [
      "3710672 1018912\n",
      "226973 47609\n",
      "0.061167626780270525 0.04672533054866367\n",
      "3156 14574\n",
      "555 2583\n"
     ]
    }
   ],
   "source": [
    "train_delta = train[train.delta_in_2_days != 0]\n",
    "test_delta = test[test.delta_in_2_days != 0]\n",
    "\n",
    "\n",
    "print(len(train),len(test))\n",
    "print(len(train_delta), len(test_delta)) \n",
    "print(len(train_delta)/len(train), len(test_delta)/len(test))\n",
    "print(len(train_delta.NOTE_ID.unique()), len(train.NOTE_ID.unique()))\n",
    "print(len(test_delta.NOTE_ID.unique()), len(test.NOTE_ID.unique()))"
   ]
  },
  {
   "cell_type": "code",
   "execution_count": 31,
   "metadata": {},
   "outputs": [
    {
     "data": {
      "text/plain": [
       "(0.2148664343786295, 0.2165500205846027)"
      ]
     },
     "execution_count": 31,
     "metadata": {},
     "output_type": "execute_result"
    }
   ],
   "source": [
    "555/2583, 3156/14574"
   ]
  },
  {
   "cell_type": "code",
   "execution_count": 87,
   "metadata": {},
   "outputs": [
    {
     "data": {
      "text/plain": [
       "(202, 10417)"
      ]
     },
     "execution_count": 87,
     "metadata": {},
     "output_type": "execute_result"
    }
   ],
   "source": [
    "(len(df_NOTE.NOTE_ID.unique()), len(df_NOTE_NEW.NOTE_ID.unique()))"
   ]
  },
  {
   "cell_type": "code",
   "execution_count": 86,
   "metadata": {},
   "outputs": [
    {
     "data": {
      "text/plain": [
       "(18, 492)"
      ]
     },
     "execution_count": 86,
     "metadata": {},
     "output_type": "execute_result"
    }
   ],
   "source": [
    "(len(df_NOTE_delta.NOTE_ID.unique()), len(df_NOTE_NEW_delta.NOTE_ID.unique())) # ~5% of the notes have a positive target."
   ]
  },
  {
   "cell_type": "code",
   "execution_count": 16,
   "metadata": {},
   "outputs": [],
   "source": [
    "df_NOTE.drop(['t_start_DT', 'SUBJECT_ID'], axis = 1, inplace=True)"
   ]
  },
  {
   "cell_type": "code",
   "execution_count": 20,
   "metadata": {},
   "outputs": [],
   "source": [
    "df_NOTE.to_csv(outpath, index=False)"
   ]
  },
  {
   "cell_type": "code",
   "execution_count": null,
   "metadata": {},
   "outputs": [],
   "source": [
    "df_NOTE"
   ]
  },
  {
   "attachments": {},
   "cell_type": "markdown",
   "metadata": {},
   "source": [
    "### UNIT TESTING"
   ]
  },
  {
   "cell_type": "code",
   "execution_count": 38,
   "metadata": {},
   "outputs": [],
   "source": [
    "# df_NOTE = pd.read_csv(outpath)\n",
    "# df_NOTE_NEW = pd.read_csv(outpath_NEW)"
   ]
  },
  {
   "cell_type": "code",
   "execution_count": 64,
   "metadata": {},
   "outputs": [
    {
     "data": {
      "text/plain": [
       "(28724, 1293497)"
      ]
     },
     "execution_count": 64,
     "metadata": {},
     "output_type": "execute_result"
    }
   ],
   "source": [
    "(len(df_NOTE), len(df_NOTE_NEW))"
   ]
  },
  {
   "cell_type": "code",
   "execution_count": 65,
   "metadata": {},
   "outputs": [
    {
     "data": {
      "text/plain": [
       "(446, 20522)"
      ]
     },
     "execution_count": 65,
     "metadata": {},
     "output_type": "execute_result"
    }
   ],
   "source": [
    "(len(df_NOTE.ICUSTAY_ID.unique()), len(df_NOTE_NEW.ICUSTAY_ID.unique()))"
   ]
  },
  {
   "cell_type": "code",
   "execution_count": 45,
   "metadata": {},
   "outputs": [
    {
     "data": {
      "text/plain": [
       "(44, 1452)"
      ]
     },
     "execution_count": 45,
     "metadata": {},
     "output_type": "execute_result"
    }
   ],
   "source": [
    "(len(df_NOTE[df_NOTE.delta != 0]), # 44\n",
    "len(df_NOTE_NEW[df_NOTE_NEW.delta != 0])) # 1452"
   ]
  },
  {
   "cell_type": "code",
   "execution_count": null,
   "metadata": {},
   "outputs": [],
   "source": [
    "pivot_table = pd.pivot_table(df_NOTE, values='ICUSTAY_ID', index='SUBJECT_ID', aggfunc=pd.Series.nunique)\n",
    "pivot_table = pivot_table.rename(columns={'ICUSTAY_ID': 'NUM_ICUSTAYS'})\n",
    "pivot_table[pivot_table['NUM_ICUSTAYS'] > 3]"
   ]
  },
  {
   "cell_type": "code",
   "execution_count": null,
   "metadata": {},
   "outputs": [],
   "source": [
    "pivot_table = pd.pivot_table(df_NOTE_NEW, values='ICUSTAY_ID', index='SUBJECT_ID', aggfunc=pd.Series.nunique)\n",
    "pivot_table = pivot_table.rename(columns={'ICUSTAY_ID': 'NUM_ICUSTAYS'})\n",
    "pivot_table[pivot_table['NUM_ICUSTAYS'] > 3]"
   ]
  },
  {
   "cell_type": "code",
   "execution_count": null,
   "metadata": {},
   "outputs": [],
   "source": [
    "pd.set_option('display.max_rows', 900)\n",
    "x = [10035168, 18775105, 14930700]\n",
    "tmp = df_NOTE_NEW[df_NOTE_NEW['SUBJECT_ID'] == x[2]] # 10035168  18775105\n",
    "\n",
    "tmp[tmp['delta'] == 1].sort_values('t_start_DT', ascending = True)"
   ]
  },
  {
   "cell_type": "code",
   "execution_count": null,
   "metadata": {},
   "outputs": [],
   "source": [
    "tmp.sort_values('t_start_DT', ascending = True)"
   ]
  },
  {
   "cell_type": "code",
   "execution_count": 30,
   "metadata": {},
   "outputs": [
    {
     "name": "stderr",
     "output_type": "stream",
     "text": [
      "/tmp/ipykernel_4119705/21244126.py:2: SettingWithCopyWarning: \n",
      "A value is trying to be set on a copy of a slice from a DataFrame.\n",
      "Try using .loc[row_indexer,col_indexer] = value instead\n",
      "\n",
      "See the caveats in the documentation: https://pandas.pydata.org/pandas-docs/stable/user_guide/indexing.html#returning-a-view-versus-a-copy\n",
      "  tmp['delta_in_2_days'] = 0\n"
     ]
    }
   ],
   "source": [
    "# from datetime import timedelta\n",
    "# tmp['delta_in_2_days'] = 0\n",
    "# delta_time = tmp[tmp['delta'] == 1]['t_start_DT'].iloc[0]\n",
    "# mask = (tmp['t_start_DT'] <= delta_time) & (tmp['t_start_DT'] >= (delta_time - timedelta(days = 2)))\n",
    "# tmp.loc[mask, 'delta_in_2_days'] = 1\n",
    "# # tmp.sort_values('t_start_DT', ascending = False)"
   ]
  },
  {
   "cell_type": "code",
   "execution_count": 230,
   "metadata": {},
   "outputs": [
    {
     "name": "stderr",
     "output_type": "stream",
     "text": [
      "/tmp/ipykernel_3711208/1209130406.py:2: SettingWithCopyWarning: \n",
      "A value is trying to be set on a copy of a slice from a DataFrame.\n",
      "Try using .loc[row_indexer,col_indexer] = value instead\n",
      "\n",
      "See the caveats in the documentation: https://pandas.pydata.org/pandas-docs/stable/user_guide/indexing.html#returning-a-view-versus-a-copy\n",
      "  subject_df['delta_in_2_days'] = 0\n"
     ]
    }
   ],
   "source": [
    "    # subject_df = tmp\n",
    "    # subject_df['delta_in_2_days'] = 0\n",
    "    # delta_times = subject_df[subject_df['delta'] == 1]['t_start_DT']\n",
    "\n",
    "\n",
    "    # # for delta_time in delta_times:\n",
    "    # masks = []\n",
    "    # for delta_time in delta_times:\n",
    "    #     mask1 = (subject_df['t_start_DT'] <= delta_time) \n",
    "    #     mask2 = (subject_df['t_start_DT'] >= (delta_time - timedelta(days = 2)))\n",
    "    #     mask = mask1 & mask2\n",
    "    #     masks.append(mask)\n",
    "    \n",
    "    \n",
    "    # mask_acc = masks[0]\n",
    "    # for m in masks[1:]:\n",
    "    #     mask_acc = mask_acc | m\n",
    "    \n",
    "    # subject_df.loc[mask_acc, 'delta_in_2_days'] = 1"
   ]
  },
  {
   "cell_type": "code",
   "execution_count": 212,
   "metadata": {},
   "outputs": [
    {
     "data": {
      "text/plain": [
       "859"
      ]
     },
     "execution_count": 212,
     "metadata": {},
     "output_type": "execute_result"
    }
   ],
   "source": [
    "# len(subject_df)"
   ]
  },
  {
   "cell_type": "code",
   "execution_count": 225,
   "metadata": {},
   "outputs": [
    {
     "data": {
      "text/plain": [
       "[859, 859, 859, 859]"
      ]
     },
     "execution_count": 225,
     "metadata": {},
     "output_type": "execute_result"
    }
   ],
   "source": [
    "# [len(mask1), len(mask2), len(mask), len(mask_acc)]"
   ]
  },
  {
   "cell_type": "code",
   "execution_count": null,
   "metadata": {},
   "outputs": [],
   "source": [
    "# mask_acc"
   ]
  },
  {
   "cell_type": "code",
   "execution_count": null,
   "metadata": {},
   "outputs": [],
   "source": [
    "# subject_df.sort_values('t_start_DT')"
   ]
  },
  {
   "cell_type": "code",
   "execution_count": 155,
   "metadata": {},
   "outputs": [
    {
     "data": {
      "text/plain": [
       "pandas.core.series.Series"
      ]
     },
     "execution_count": 155,
     "metadata": {},
     "output_type": "execute_result"
    }
   ],
   "source": [
    "# mask1"
   ]
  },
  {
   "cell_type": "code",
   "execution_count": null,
   "metadata": {},
   "outputs": [],
   "source": [
    "# df_NOTE[df_NOTE['delta'] == 1]"
   ]
  },
  {
   "cell_type": "code",
   "execution_count": null,
   "metadata": {},
   "outputs": [],
   "source": [
    "# df_NOTE[df_NOTE['delta_in_2_days'] == 1]"
   ]
  },
  {
   "cell_type": "code",
   "execution_count": null,
   "metadata": {},
   "outputs": [],
   "source": [
    "# df_NOTE[df_NOTE.index > 180]"
   ]
  }
 ],
 "metadata": {
  "kernelspec": {
   "display_name": "clinical_t5",
   "language": "python",
   "name": "python3"
  },
  "language_info": {
   "codemirror_mode": {
    "name": "ipython",
    "version": 3
   },
   "file_extension": ".py",
   "mimetype": "text/x-python",
   "name": "python",
   "nbconvert_exporter": "python",
   "pygments_lexer": "ipython3",
   "version": "3.8.16"
  },
  "orig_nbformat": 4
 },
 "nbformat": 4,
 "nbformat_minor": 2
}
