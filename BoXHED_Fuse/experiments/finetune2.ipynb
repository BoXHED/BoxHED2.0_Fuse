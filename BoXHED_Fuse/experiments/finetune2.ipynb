{
 "cells": [
  {
   "cell_type": "code",
   "execution_count": 2,
   "metadata": {},
   "outputs": [],
   "source": [
    "import pandas as pd\n",
    "import torch\n",
    "test = pd.read_csv('/home/ugrads/a/aa_ron_su/BoXHED_Fuse/JSS_SUBMISSION_NEW/data/final/Clinical-T5-Base_rad_out/3/from_epoch9/till_end_mimic_iv_extra_features_test.csv')\n",
    "train = pd.read_csv('/home/ugrads/a/aa_ron_su/BoXHED_Fuse/JSS_SUBMISSION_NEW/data/final/Clinical-T5-Base_rad_out/3/from_epoch9/till_end_mimic_iv_extra_features_train.csv')\n",
    "\n",
    "emb_df = train[['emb' + str(i) for i in range(64)]].iloc[:10]\n",
    "emb_df = emb_df.apply(lambda x: torch.tensor(x, dtype=torch.float), axis=1)\n",
    "embs = torch.stack(tuple(emb_df))\n",
    "embs = torch.unsqueeze(embs, 1)"
   ]
  },
  {
   "cell_type": "code",
   "execution_count": 7,
   "metadata": {},
   "outputs": [],
   "source": [
    "embs = torch.load(\"../views/tensor_rad_recent.csv\")"
   ]
  },
  {
   "cell_type": "code",
   "execution_count": 9,
   "metadata": {},
   "outputs": [
    {
     "data": {
      "text/plain": [
       "torch.Size([10, 1, 64])"
      ]
     },
     "execution_count": 9,
     "metadata": {},
     "output_type": "execute_result"
    }
   ],
   "source": [
    "embs.shape"
   ]
  }
 ],
 "metadata": {
  "kernelspec": {
   "display_name": "clinical1",
   "language": "python",
   "name": "python3"
  },
  "language_info": {
   "codemirror_mode": {
    "name": "ipython",
    "version": 3
   },
   "file_extension": ".py",
   "mimetype": "text/x-python",
   "name": "python",
   "nbconvert_exporter": "python",
   "pygments_lexer": "ipython3",
   "version": "3.10.11"
  }
 },
 "nbformat": 4,
 "nbformat_minor": 2
}
